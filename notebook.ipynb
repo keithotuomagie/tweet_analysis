{
 "cells": [
  {
   "cell_type": "markdown",
   "metadata": {},
   "source": [
    "# Business Problem"
   ]
  },
  {
   "cell_type": "markdown",
   "metadata": {},
   "source": [
    "KBO Marketing Company LLC is a marketing company.  KBO Marketing has been retained by Apple and Google to perform the following:\n",
    "\n",
    "- understand product sentiment analysis - in particular, whether or not the product sentiment is positive or not positive;\n",
    "- and proactively respond to feedback that is less than positive via social media  "
   ]
  },
  {
   "cell_type": "markdown",
   "metadata": {},
   "source": [
    "# Data Understanding"
   ]
  },
  {
   "cell_type": "markdown",
   "metadata": {},
   "source": [
    "The data for examing the aforementioned problem comes from the following source: [Brands and Product Emotions](https://data.world/crowdflower/brands-and-product-emotions) "
   ]
  },
  {
   "cell_type": "markdown",
   "metadata": {},
   "source": [
    "Before beginning to create a model, I want to examine and become familiar with the dataset. I will conduct exploratory data analysis in order to understand the dataset attributes, which includes, but not limited to the following:\n",
    "\n",
    "1. Number of Columns\n",
    "2. Number of Rows\n",
    "3. Column Names\n",
    "4. Format of the data in each column"
   ]
  },
  {
   "cell_type": "code",
   "execution_count": 1,
   "metadata": {},
   "outputs": [
    {
     "name": "stderr",
     "output_type": "stream",
     "text": [
      "[nltk_data] Downloading package punkt to C:\\Users\\16467/nltk_data...\n",
      "[nltk_data]   Package punkt is already up-to-date!\n",
      "[nltk_data] Downloading package stopwords to\n",
      "[nltk_data]     C:\\Users\\16467/nltk_data...\n",
      "[nltk_data]   Package stopwords is already up-to-date!\n"
     ]
    }
   ],
   "source": [
    "# Importing Libraries\n",
    "\n",
    "import pandas as pd\n",
    "import numpy as np\n",
    "import matplotlib.pyplot as plt\n",
    "from matplotlib.ticker import MaxNLocator\n",
    "%matplotlib inline\n",
    "import seaborn as sns\n",
    "import warnings\n",
    "warnings.filterwarnings('ignore')\n",
    "from itertools import combinations\n",
    "\n",
    "from sklearn.model_selection import train_test_split, GridSearchCV\n",
    "from sklearn.metrics import recall_score, precision_score, accuracy_score, f1_score, confusion_matrix, ConfusionMatrixDisplay, roc_curve, auc\n",
    "from sklearn.pipeline import Pipeline\n",
    "from sklearn.feature_extraction.text import TfidfVectorizer\n",
    "from sklearn.naive_bayes import MultinomialNB\n",
    "from sklearn.tree import DecisionTreeClassifier \n",
    "from sklearn import tree\n",
    "\n",
    "import nltk\n",
    "import string\n",
    "import re\n",
    "nltk.download('punkt')\n",
    "from nltk.tokenize import regexp_tokenize, word_tokenize, RegexpTokenizer\n",
    "from nltk.probability import FreqDist\n",
    "nltk.download('stopwords')\n",
    "from nltk.corpus import stopwords\n",
    "from nltk.stem import PorterStemmer\n"
   ]
  },
  {
   "cell_type": "code",
   "execution_count": 2,
   "metadata": {},
   "outputs": [],
   "source": [
    "# Reading file\n",
    "\n",
    "df = pd.read_csv('tweet_product_company.csv')"
   ]
  },
  {
   "cell_type": "code",
   "execution_count": 3,
   "metadata": {},
   "outputs": [
    {
     "data": {
      "text/html": [
       "<div>\n",
       "<style scoped>\n",
       "    .dataframe tbody tr th:only-of-type {\n",
       "        vertical-align: middle;\n",
       "    }\n",
       "\n",
       "    .dataframe tbody tr th {\n",
       "        vertical-align: top;\n",
       "    }\n",
       "\n",
       "    .dataframe thead th {\n",
       "        text-align: right;\n",
       "    }\n",
       "</style>\n",
       "<table border=\"1\" class=\"dataframe\">\n",
       "  <thead>\n",
       "    <tr style=\"text-align: right;\">\n",
       "      <th></th>\n",
       "      <th>tweet_text</th>\n",
       "      <th>emotion_in_tweet_is_directed_at</th>\n",
       "      <th>is_there_an_emotion_directed_at_a_brand_or_product</th>\n",
       "    </tr>\n",
       "  </thead>\n",
       "  <tbody>\n",
       "    <tr>\n",
       "      <th>0</th>\n",
       "      <td>.@wesley83 I have a 3G iPhone. After 3 hrs twe...</td>\n",
       "      <td>iPhone</td>\n",
       "      <td>Negative emotion</td>\n",
       "    </tr>\n",
       "    <tr>\n",
       "      <th>1</th>\n",
       "      <td>@jessedee Know about @fludapp ? Awesome iPad/i...</td>\n",
       "      <td>iPad or iPhone App</td>\n",
       "      <td>Positive emotion</td>\n",
       "    </tr>\n",
       "    <tr>\n",
       "      <th>2</th>\n",
       "      <td>@swonderlin Can not wait for #iPad 2 also. The...</td>\n",
       "      <td>iPad</td>\n",
       "      <td>Positive emotion</td>\n",
       "    </tr>\n",
       "    <tr>\n",
       "      <th>3</th>\n",
       "      <td>@sxsw I hope this year's festival isn't as cra...</td>\n",
       "      <td>iPad or iPhone App</td>\n",
       "      <td>Negative emotion</td>\n",
       "    </tr>\n",
       "    <tr>\n",
       "      <th>4</th>\n",
       "      <td>@sxtxstate great stuff on Fri #SXSW: Marissa M...</td>\n",
       "      <td>Google</td>\n",
       "      <td>Positive emotion</td>\n",
       "    </tr>\n",
       "    <tr>\n",
       "      <th>5</th>\n",
       "      <td>@teachntech00 New iPad Apps For #SpeechTherapy...</td>\n",
       "      <td>NaN</td>\n",
       "      <td>No emotion toward brand or product</td>\n",
       "    </tr>\n",
       "    <tr>\n",
       "      <th>6</th>\n",
       "      <td>NaN</td>\n",
       "      <td>NaN</td>\n",
       "      <td>No emotion toward brand or product</td>\n",
       "    </tr>\n",
       "    <tr>\n",
       "      <th>7</th>\n",
       "      <td>#SXSW is just starting, #CTIA is around the co...</td>\n",
       "      <td>Android</td>\n",
       "      <td>Positive emotion</td>\n",
       "    </tr>\n",
       "    <tr>\n",
       "      <th>8</th>\n",
       "      <td>Beautifully smart and simple idea RT @madebyma...</td>\n",
       "      <td>iPad or iPhone App</td>\n",
       "      <td>Positive emotion</td>\n",
       "    </tr>\n",
       "    <tr>\n",
       "      <th>9</th>\n",
       "      <td>Counting down the days to #sxsw plus strong Ca...</td>\n",
       "      <td>Apple</td>\n",
       "      <td>Positive emotion</td>\n",
       "    </tr>\n",
       "    <tr>\n",
       "      <th>10</th>\n",
       "      <td>Excited to meet the @samsungmobileus at #sxsw ...</td>\n",
       "      <td>Android</td>\n",
       "      <td>Positive emotion</td>\n",
       "    </tr>\n",
       "    <tr>\n",
       "      <th>11</th>\n",
       "      <td>Find &amp;amp; Start Impromptu Parties at #SXSW Wi...</td>\n",
       "      <td>Android App</td>\n",
       "      <td>Positive emotion</td>\n",
       "    </tr>\n",
       "    <tr>\n",
       "      <th>12</th>\n",
       "      <td>Foursquare ups the game, just in time for #SXS...</td>\n",
       "      <td>Android App</td>\n",
       "      <td>Positive emotion</td>\n",
       "    </tr>\n",
       "    <tr>\n",
       "      <th>13</th>\n",
       "      <td>Gotta love this #SXSW Google Calendar featurin...</td>\n",
       "      <td>Other Google product or service</td>\n",
       "      <td>Positive emotion</td>\n",
       "    </tr>\n",
       "    <tr>\n",
       "      <th>14</th>\n",
       "      <td>Great #sxsw ipad app from @madebymany: http://...</td>\n",
       "      <td>iPad or iPhone App</td>\n",
       "      <td>Positive emotion</td>\n",
       "    </tr>\n",
       "    <tr>\n",
       "      <th>15</th>\n",
       "      <td>haha, awesomely rad iPad app by @madebymany ht...</td>\n",
       "      <td>iPad or iPhone App</td>\n",
       "      <td>Positive emotion</td>\n",
       "    </tr>\n",
       "    <tr>\n",
       "      <th>16</th>\n",
       "      <td>Holler Gram for iPad on the iTunes App Store -...</td>\n",
       "      <td>NaN</td>\n",
       "      <td>No emotion toward brand or product</td>\n",
       "    </tr>\n",
       "    <tr>\n",
       "      <th>17</th>\n",
       "      <td>I just noticed DST is coming this weekend. How...</td>\n",
       "      <td>iPhone</td>\n",
       "      <td>Negative emotion</td>\n",
       "    </tr>\n",
       "    <tr>\n",
       "      <th>18</th>\n",
       "      <td>Just added my #SXSW flights to @planely. Match...</td>\n",
       "      <td>iPad or iPhone App</td>\n",
       "      <td>Positive emotion</td>\n",
       "    </tr>\n",
       "    <tr>\n",
       "      <th>19</th>\n",
       "      <td>Must have #SXSW app! RT @malbonster: Lovely re...</td>\n",
       "      <td>iPad or iPhone App</td>\n",
       "      <td>Positive emotion</td>\n",
       "    </tr>\n",
       "    <tr>\n",
       "      <th>20</th>\n",
       "      <td>Need to buy an iPad2 while I'm in Austin at #s...</td>\n",
       "      <td>iPad</td>\n",
       "      <td>Positive emotion</td>\n",
       "    </tr>\n",
       "    <tr>\n",
       "      <th>21</th>\n",
       "      <td>Oh. My. God. The #SXSW app for iPad is pure, u...</td>\n",
       "      <td>iPad or iPhone App</td>\n",
       "      <td>Positive emotion</td>\n",
       "    </tr>\n",
       "    <tr>\n",
       "      <th>22</th>\n",
       "      <td>Okay, this is really it: yay new @Foursquare f...</td>\n",
       "      <td>Android App</td>\n",
       "      <td>Positive emotion</td>\n",
       "    </tr>\n",
       "    <tr>\n",
       "      <th>23</th>\n",
       "      <td>Photo: Just installed the #SXSW iPhone app, wh...</td>\n",
       "      <td>iPad or iPhone App</td>\n",
       "      <td>Positive emotion</td>\n",
       "    </tr>\n",
       "    <tr>\n",
       "      <th>24</th>\n",
       "      <td>Really enjoying the changes in Gowalla 3.0 for...</td>\n",
       "      <td>Android App</td>\n",
       "      <td>Positive emotion</td>\n",
       "    </tr>\n",
       "  </tbody>\n",
       "</table>\n",
       "</div>"
      ],
      "text/plain": [
       "                                           tweet_text  \\\n",
       "0   .@wesley83 I have a 3G iPhone. After 3 hrs twe...   \n",
       "1   @jessedee Know about @fludapp ? Awesome iPad/i...   \n",
       "2   @swonderlin Can not wait for #iPad 2 also. The...   \n",
       "3   @sxsw I hope this year's festival isn't as cra...   \n",
       "4   @sxtxstate great stuff on Fri #SXSW: Marissa M...   \n",
       "5   @teachntech00 New iPad Apps For #SpeechTherapy...   \n",
       "6                                                 NaN   \n",
       "7   #SXSW is just starting, #CTIA is around the co...   \n",
       "8   Beautifully smart and simple idea RT @madebyma...   \n",
       "9   Counting down the days to #sxsw plus strong Ca...   \n",
       "10  Excited to meet the @samsungmobileus at #sxsw ...   \n",
       "11  Find &amp; Start Impromptu Parties at #SXSW Wi...   \n",
       "12  Foursquare ups the game, just in time for #SXS...   \n",
       "13  Gotta love this #SXSW Google Calendar featurin...   \n",
       "14  Great #sxsw ipad app from @madebymany: http://...   \n",
       "15  haha, awesomely rad iPad app by @madebymany ht...   \n",
       "16  Holler Gram for iPad on the iTunes App Store -...   \n",
       "17  I just noticed DST is coming this weekend. How...   \n",
       "18  Just added my #SXSW flights to @planely. Match...   \n",
       "19  Must have #SXSW app! RT @malbonster: Lovely re...   \n",
       "20  Need to buy an iPad2 while I'm in Austin at #s...   \n",
       "21  Oh. My. God. The #SXSW app for iPad is pure, u...   \n",
       "22  Okay, this is really it: yay new @Foursquare f...   \n",
       "23  Photo: Just installed the #SXSW iPhone app, wh...   \n",
       "24  Really enjoying the changes in Gowalla 3.0 for...   \n",
       "\n",
       "    emotion_in_tweet_is_directed_at  \\\n",
       "0                            iPhone   \n",
       "1                iPad or iPhone App   \n",
       "2                              iPad   \n",
       "3                iPad or iPhone App   \n",
       "4                            Google   \n",
       "5                               NaN   \n",
       "6                               NaN   \n",
       "7                           Android   \n",
       "8                iPad or iPhone App   \n",
       "9                             Apple   \n",
       "10                          Android   \n",
       "11                      Android App   \n",
       "12                      Android App   \n",
       "13  Other Google product or service   \n",
       "14               iPad or iPhone App   \n",
       "15               iPad or iPhone App   \n",
       "16                              NaN   \n",
       "17                           iPhone   \n",
       "18               iPad or iPhone App   \n",
       "19               iPad or iPhone App   \n",
       "20                             iPad   \n",
       "21               iPad or iPhone App   \n",
       "22                      Android App   \n",
       "23               iPad or iPhone App   \n",
       "24                      Android App   \n",
       "\n",
       "   is_there_an_emotion_directed_at_a_brand_or_product  \n",
       "0                                    Negative emotion  \n",
       "1                                    Positive emotion  \n",
       "2                                    Positive emotion  \n",
       "3                                    Negative emotion  \n",
       "4                                    Positive emotion  \n",
       "5                  No emotion toward brand or product  \n",
       "6                  No emotion toward brand or product  \n",
       "7                                    Positive emotion  \n",
       "8                                    Positive emotion  \n",
       "9                                    Positive emotion  \n",
       "10                                   Positive emotion  \n",
       "11                                   Positive emotion  \n",
       "12                                   Positive emotion  \n",
       "13                                   Positive emotion  \n",
       "14                                   Positive emotion  \n",
       "15                                   Positive emotion  \n",
       "16                 No emotion toward brand or product  \n",
       "17                                   Negative emotion  \n",
       "18                                   Positive emotion  \n",
       "19                                   Positive emotion  \n",
       "20                                   Positive emotion  \n",
       "21                                   Positive emotion  \n",
       "22                                   Positive emotion  \n",
       "23                                   Positive emotion  \n",
       "24                                   Positive emotion  "
      ]
     },
     "execution_count": 3,
     "metadata": {},
     "output_type": "execute_result"
    }
   ],
   "source": [
    "# Examining first 25 rows\n",
    "\n",
    "df.head(25)"
   ]
  },
  {
   "cell_type": "code",
   "execution_count": 4,
   "metadata": {},
   "outputs": [
    {
     "data": {
      "text/html": [
       "<div>\n",
       "<style scoped>\n",
       "    .dataframe tbody tr th:only-of-type {\n",
       "        vertical-align: middle;\n",
       "    }\n",
       "\n",
       "    .dataframe tbody tr th {\n",
       "        vertical-align: top;\n",
       "    }\n",
       "\n",
       "    .dataframe thead th {\n",
       "        text-align: right;\n",
       "    }\n",
       "</style>\n",
       "<table border=\"1\" class=\"dataframe\">\n",
       "  <thead>\n",
       "    <tr style=\"text-align: right;\">\n",
       "      <th></th>\n",
       "      <th>tweet_text</th>\n",
       "      <th>emotion_in_tweet_is_directed_at</th>\n",
       "      <th>is_there_an_emotion_directed_at_a_brand_or_product</th>\n",
       "    </tr>\n",
       "  </thead>\n",
       "  <tbody>\n",
       "    <tr>\n",
       "      <th>8696</th>\n",
       "      <td>&amp;quot;If you were able to afford to attend  #s...</td>\n",
       "      <td>NaN</td>\n",
       "      <td>No emotion toward brand or product</td>\n",
       "    </tr>\n",
       "    <tr>\n",
       "      <th>8697</th>\n",
       "      <td>@mention you'll be at the google party tonight...</td>\n",
       "      <td>NaN</td>\n",
       "      <td>No emotion toward brand or product</td>\n",
       "    </tr>\n",
       "    <tr>\n",
       "      <th>8698</th>\n",
       "      <td>@mention You're not sure how many you ate? Tha...</td>\n",
       "      <td>NaN</td>\n",
       "      <td>No emotion toward brand or product</td>\n",
       "    </tr>\n",
       "    <tr>\n",
       "      <th>8699</th>\n",
       "      <td>You know you've made it to #sxsw when you see ...</td>\n",
       "      <td>iPad</td>\n",
       "      <td>Positive emotion</td>\n",
       "    </tr>\n",
       "    <tr>\n",
       "      <th>8700</th>\n",
       "      <td>what are your essentials for #SxSW?  Mine? poc...</td>\n",
       "      <td>iPad</td>\n",
       "      <td>Positive emotion</td>\n",
       "    </tr>\n",
       "    <tr>\n",
       "      <th>8701</th>\n",
       "      <td>@mention your iPhone 4 cases are Rad and Ready...</td>\n",
       "      <td>iPhone</td>\n",
       "      <td>Positive emotion</td>\n",
       "    </tr>\n",
       "    <tr>\n",
       "      <th>8702</th>\n",
       "      <td>At #SXSW your iphone charger is your best friend.</td>\n",
       "      <td>NaN</td>\n",
       "      <td>No emotion toward brand or product</td>\n",
       "    </tr>\n",
       "    <tr>\n",
       "      <th>8703</th>\n",
       "      <td>At &amp;quot;Your Mom Has an iPad: Designing for B...</td>\n",
       "      <td>NaN</td>\n",
       "      <td>No emotion toward brand or product</td>\n",
       "    </tr>\n",
       "    <tr>\n",
       "      <th>8704</th>\n",
       "      <td>At &amp;quot;Your Mom Has an iPad&amp;quot; session #y...</td>\n",
       "      <td>NaN</td>\n",
       "      <td>No emotion toward brand or product</td>\n",
       "    </tr>\n",
       "    <tr>\n",
       "      <th>8705</th>\n",
       "      <td>At &amp;quot;Your Mom Has an iPad&amp;quot; session at...</td>\n",
       "      <td>NaN</td>\n",
       "      <td>No emotion toward brand or product</td>\n",
       "    </tr>\n",
       "    <tr>\n",
       "      <th>8706</th>\n",
       "      <td>@mention your PR guy just convinced me to swit...</td>\n",
       "      <td>iPhone</td>\n",
       "      <td>Positive emotion</td>\n",
       "    </tr>\n",
       "    <tr>\n",
       "      <th>8707</th>\n",
       "      <td>Cue the hype RT @mention We interrupt your reg...</td>\n",
       "      <td>NaN</td>\n",
       "      <td>No emotion toward brand or product</td>\n",
       "    </tr>\n",
       "    <tr>\n",
       "      <th>8708</th>\n",
       "      <td>&amp;quot;papyrus...sort of like the ipad&amp;quot; - ...</td>\n",
       "      <td>iPad</td>\n",
       "      <td>Positive emotion</td>\n",
       "    </tr>\n",
       "    <tr>\n",
       "      <th>8709</th>\n",
       "      <td>Diller says Google TV &amp;quot;might be run over ...</td>\n",
       "      <td>Other Google product or service</td>\n",
       "      <td>Negative emotion</td>\n",
       "    </tr>\n",
       "    <tr>\n",
       "      <th>8710</th>\n",
       "      <td>Google says reports about launch of Circles so...</td>\n",
       "      <td>NaN</td>\n",
       "      <td>No emotion toward brand or product</td>\n",
       "    </tr>\n",
       "    <tr>\n",
       "      <th>8711</th>\n",
       "      <td>Google says the future is all around you! (ie,...</td>\n",
       "      <td>NaN</td>\n",
       "      <td>No emotion toward brand or product</td>\n",
       "    </tr>\n",
       "    <tr>\n",
       "      <th>8712</th>\n",
       "      <td>Google says the future is location, location, ...</td>\n",
       "      <td>NaN</td>\n",
       "      <td>No emotion toward brand or product</td>\n",
       "    </tr>\n",
       "    <tr>\n",
       "      <th>8713</th>\n",
       "      <td>I've always used Camera+ for my iPhone b/c it ...</td>\n",
       "      <td>iPad or iPhone App</td>\n",
       "      <td>Positive emotion</td>\n",
       "    </tr>\n",
       "    <tr>\n",
       "      <th>8714</th>\n",
       "      <td>Google says: want to give a lightning talk to ...</td>\n",
       "      <td>NaN</td>\n",
       "      <td>No emotion toward brand or product</td>\n",
       "    </tr>\n",
       "    <tr>\n",
       "      <th>8715</th>\n",
       "      <td>@mention Yup, but I don't have a third app yet...</td>\n",
       "      <td>NaN</td>\n",
       "      <td>No emotion toward brand or product</td>\n",
       "    </tr>\n",
       "    <tr>\n",
       "      <th>8716</th>\n",
       "      <td>Ipad everywhere. #SXSW {link}</td>\n",
       "      <td>iPad</td>\n",
       "      <td>Positive emotion</td>\n",
       "    </tr>\n",
       "    <tr>\n",
       "      <th>8717</th>\n",
       "      <td>Wave, buzz... RT @mention We interrupt your re...</td>\n",
       "      <td>NaN</td>\n",
       "      <td>No emotion toward brand or product</td>\n",
       "    </tr>\n",
       "    <tr>\n",
       "      <th>8718</th>\n",
       "      <td>Google's Zeiger, a physician never reported po...</td>\n",
       "      <td>NaN</td>\n",
       "      <td>No emotion toward brand or product</td>\n",
       "    </tr>\n",
       "    <tr>\n",
       "      <th>8719</th>\n",
       "      <td>Some Verizon iPhone customers complained their...</td>\n",
       "      <td>NaN</td>\n",
       "      <td>No emotion toward brand or product</td>\n",
       "    </tr>\n",
       "    <tr>\n",
       "      <th>8720</th>\n",
       "      <td>�ϡ�����_��ʋ�΋�ҋ�������⋁_��������_���RT @mentio...</td>\n",
       "      <td>NaN</td>\n",
       "      <td>No emotion toward brand or product</td>\n",
       "    </tr>\n",
       "  </tbody>\n",
       "</table>\n",
       "</div>"
      ],
      "text/plain": [
       "                                             tweet_text  \\\n",
       "8696  &quot;If you were able to afford to attend  #s...   \n",
       "8697  @mention you'll be at the google party tonight...   \n",
       "8698  @mention You're not sure how many you ate? Tha...   \n",
       "8699  You know you've made it to #sxsw when you see ...   \n",
       "8700  what are your essentials for #SxSW?  Mine? poc...   \n",
       "8701  @mention your iPhone 4 cases are Rad and Ready...   \n",
       "8702  At #SXSW your iphone charger is your best friend.   \n",
       "8703  At &quot;Your Mom Has an iPad: Designing for B...   \n",
       "8704  At &quot;Your Mom Has an iPad&quot; session #y...   \n",
       "8705  At &quot;Your Mom Has an iPad&quot; session at...   \n",
       "8706  @mention your PR guy just convinced me to swit...   \n",
       "8707  Cue the hype RT @mention We interrupt your reg...   \n",
       "8708  &quot;papyrus...sort of like the ipad&quot; - ...   \n",
       "8709  Diller says Google TV &quot;might be run over ...   \n",
       "8710  Google says reports about launch of Circles so...   \n",
       "8711  Google says the future is all around you! (ie,...   \n",
       "8712  Google says the future is location, location, ...   \n",
       "8713  I've always used Camera+ for my iPhone b/c it ...   \n",
       "8714  Google says: want to give a lightning talk to ...   \n",
       "8715  @mention Yup, but I don't have a third app yet...   \n",
       "8716                      Ipad everywhere. #SXSW {link}   \n",
       "8717  Wave, buzz... RT @mention We interrupt your re...   \n",
       "8718  Google's Zeiger, a physician never reported po...   \n",
       "8719  Some Verizon iPhone customers complained their...   \n",
       "8720  �ϡ�����_��ʋ�΋�ҋ�������⋁_��������_���RT @mentio...   \n",
       "\n",
       "      emotion_in_tweet_is_directed_at  \\\n",
       "8696                              NaN   \n",
       "8697                              NaN   \n",
       "8698                              NaN   \n",
       "8699                             iPad   \n",
       "8700                             iPad   \n",
       "8701                           iPhone   \n",
       "8702                              NaN   \n",
       "8703                              NaN   \n",
       "8704                              NaN   \n",
       "8705                              NaN   \n",
       "8706                           iPhone   \n",
       "8707                              NaN   \n",
       "8708                             iPad   \n",
       "8709  Other Google product or service   \n",
       "8710                              NaN   \n",
       "8711                              NaN   \n",
       "8712                              NaN   \n",
       "8713               iPad or iPhone App   \n",
       "8714                              NaN   \n",
       "8715                              NaN   \n",
       "8716                             iPad   \n",
       "8717                              NaN   \n",
       "8718                              NaN   \n",
       "8719                              NaN   \n",
       "8720                              NaN   \n",
       "\n",
       "     is_there_an_emotion_directed_at_a_brand_or_product  \n",
       "8696                 No emotion toward brand or product  \n",
       "8697                 No emotion toward brand or product  \n",
       "8698                 No emotion toward brand or product  \n",
       "8699                                   Positive emotion  \n",
       "8700                                   Positive emotion  \n",
       "8701                                   Positive emotion  \n",
       "8702                 No emotion toward brand or product  \n",
       "8703                 No emotion toward brand or product  \n",
       "8704                 No emotion toward brand or product  \n",
       "8705                 No emotion toward brand or product  \n",
       "8706                                   Positive emotion  \n",
       "8707                 No emotion toward brand or product  \n",
       "8708                                   Positive emotion  \n",
       "8709                                   Negative emotion  \n",
       "8710                 No emotion toward brand or product  \n",
       "8711                 No emotion toward brand or product  \n",
       "8712                 No emotion toward brand or product  \n",
       "8713                                   Positive emotion  \n",
       "8714                 No emotion toward brand or product  \n",
       "8715                 No emotion toward brand or product  \n",
       "8716                                   Positive emotion  \n",
       "8717                 No emotion toward brand or product  \n",
       "8718                 No emotion toward brand or product  \n",
       "8719                 No emotion toward brand or product  \n",
       "8720                 No emotion toward brand or product  "
      ]
     },
     "execution_count": 4,
     "metadata": {},
     "output_type": "execute_result"
    }
   ],
   "source": [
    "# Examining last 25 rows\n",
    "\n",
    "df.tail(25)"
   ]
  },
  {
   "cell_type": "code",
   "execution_count": 5,
   "metadata": {},
   "outputs": [
    {
     "name": "stdout",
     "output_type": "stream",
     "text": [
      "<class 'pandas.core.frame.DataFrame'>\n",
      "RangeIndex: 8721 entries, 0 to 8720\n",
      "Data columns (total 3 columns):\n",
      " #   Column                                              Non-Null Count  Dtype \n",
      "---  ------                                              --------------  ----- \n",
      " 0   tweet_text                                          8720 non-null   object\n",
      " 1   emotion_in_tweet_is_directed_at                     3169 non-null   object\n",
      " 2   is_there_an_emotion_directed_at_a_brand_or_product  8721 non-null   object\n",
      "dtypes: object(3)\n",
      "memory usage: 204.5+ KB\n"
     ]
    }
   ],
   "source": [
    "# Getting column info\n",
    "\n",
    "df.info()"
   ]
  },
  {
   "cell_type": "markdown",
   "metadata": {},
   "source": [
    "## Data Overview"
   ]
  },
  {
   "cell_type": "markdown",
   "metadata": {},
   "source": [
    "I created a Pandas DataFrame from the csv file.  The DataFrame contains 8,721 rows of data.  The DataFrame contains the following columns:\n",
    "\n",
    "- *df['tweet_text']* - this is the sentiment provided via tweet\n",
    "- *df['emotion_in_tweet_is_directed_at']* - this is the brand, or product, in which the tweet is targeted\n",
    "- *df['is_there_an_emotion_directed_at_a_brand_or_product']* - this is the emotional category of the tweet\n",
    "\n",
    "All of the columns are in string format."
   ]
  },
  {
   "cell_type": "code",
   "execution_count": 6,
   "metadata": {},
   "outputs": [
    {
     "data": {
      "text/plain": [
       "9"
      ]
     },
     "execution_count": 6,
     "metadata": {},
     "output_type": "execute_result"
    }
   ],
   "source": [
    "# Obtaining number of unique values for the following column - \"df['emotion_in_tweet_is_directed_at']\"\n",
    "\n",
    "df['emotion_in_tweet_is_directed_at'].nunique()"
   ]
  },
  {
   "cell_type": "code",
   "execution_count": 7,
   "metadata": {},
   "outputs": [
    {
     "data": {
      "text/plain": [
       "iPad                               910\n",
       "Apple                              640\n",
       "iPad or iPhone App                 451\n",
       "Google                             412\n",
       "iPhone                             288\n",
       "Other Google product or service    282\n",
       "Android App                         78\n",
       "Android                             74\n",
       "Other Apple product or service      34\n",
       "Name: emotion_in_tweet_is_directed_at, dtype: int64"
      ]
     },
     "execution_count": 7,
     "metadata": {},
     "output_type": "execute_result"
    }
   ],
   "source": [
    "# Obtaining Value Counts for the following column - \"df['emotion_in_tweet_is_directed_at']\"\n",
    "\n",
    "df['emotion_in_tweet_is_directed_at'].value_counts()"
   ]
  },
  {
   "cell_type": "markdown",
   "metadata": {},
   "source": [
    "## Observations | Brand or Product"
   ]
  },
  {
   "cell_type": "markdown",
   "metadata": {},
   "source": [
    "I utilized the following code - *df['emotion_in_tweet_is_directed_at'].value_counts()* - to understand the different brands and products that are captured by the respective column.  The different brands and products are the following: \n",
    "\n",
    "- iPad\n",
    "- Apple\n",
    "- iPad or iPhone App\n",
    "- Google\n",
    "- iPhone\n",
    "- Other Google product or service\n",
    "- Android App\n",
    "- Android\n",
    "- Other Apple product or service\n",
    "\n",
    "A bar chart that breaks down the different brands and products is listed below."
   ]
  },
  {
   "cell_type": "code",
   "execution_count": 8,
   "metadata": {},
   "outputs": [
    {
     "data": {
      "text/plain": [
       "Text(0.5, 1.0, 'Breakdown of Brand and Product')"
      ]
     },
     "execution_count": 8,
     "metadata": {},
     "output_type": "execute_result"
    },
    {
     "data": {
      "image/png": "[encoded data removed]",
      "text/plain": [
       "<Figure size 432x288 with 1 Axes>"
      ]
     },
     "metadata": {
      "needs_background": "light"
     },
     "output_type": "display_data"
    }
   ],
   "source": [
    "# Creating a Bar Chart of the Different Brands and Products\n",
    "\n",
    "ax = sns.countplot(y='emotion_in_tweet_is_directed_at', data=df)\n",
    "\n",
    "for p in ax.patches:\n",
    "    width = p.get_width()\n",
    "    ax.annotate(f'{width}', \n",
    "                (width, p.get_y() + p.get_height() / 2), \n",
    "                ha='left', va='center')  # Align text to the left of the bar and center vertically\n",
    "\n",
    "plt.title(\"Breakdown of Brand and Product\")"
   ]
  },
  {
   "cell_type": "code",
   "execution_count": 9,
   "metadata": {},
   "outputs": [
    {
     "data": {
      "text/plain": [
       "4"
      ]
     },
     "execution_count": 9,
     "metadata": {},
     "output_type": "execute_result"
    }
   ],
   "source": [
    "# Obtaining number of unique values for the following column - \"df['is_there_an_emotion_directed_at_a_brand_or_product']\"\n",
    "\n",
    "df['is_there_an_emotion_directed_at_a_brand_or_product'].nunique()"
   ]
  },
  {
   "cell_type": "code",
   "execution_count": 10,
   "metadata": {},
   "outputs": [
    {
     "data": {
      "text/plain": [
       "No emotion toward brand or product    5156\n",
       "Positive emotion                      2869\n",
       "Negative emotion                       545\n",
       "I can't tell                           151\n",
       "Name: is_there_an_emotion_directed_at_a_brand_or_product, dtype: int64"
      ]
     },
     "execution_count": 10,
     "metadata": {},
     "output_type": "execute_result"
    }
   ],
   "source": [
    "# Obtaining Value Counts for the following column - \"df['is_there_an_emotion_directed_at_a_brand_or_product']\"\n",
    "\n",
    "df['is_there_an_emotion_directed_at_a_brand_or_product'].value_counts()"
   ]
  },
  {
   "cell_type": "markdown",
   "metadata": {},
   "source": [
    "## Observations | Brand or Product Sentiment"
   ]
  },
  {
   "cell_type": "markdown",
   "metadata": {},
   "source": [
    "I utilized the following code - *df['is_there_an_emotion_directed_at_a_brand_or_product'].value_counts()* - to understand the brand and product sentiment captured by the respective column.  There are a total of four different brand and product sentiments, which are the following:\n",
    "\n",
    "- No emotion toward brand or product\n",
    "- Positive emotion\n",
    "- Negative emotion\n",
    "- I can't tell "
   ]
  },
  {
   "cell_type": "code",
   "execution_count": 11,
   "metadata": {},
   "outputs": [
    {
     "data": {
      "text/plain": [
       "tweet_text                                               1\n",
       "emotion_in_tweet_is_directed_at                       5552\n",
       "is_there_an_emotion_directed_at_a_brand_or_product       0\n",
       "dtype: int64"
      ]
     },
     "execution_count": 11,
     "metadata": {},
     "output_type": "execute_result"
    }
   ],
   "source": [
    "# Examining missing values in each column\n",
    "\n",
    "df.isna().sum()"
   ]
  },
  {
   "cell_type": "markdown",
   "metadata": {},
   "source": [
    "## Observations | Missing Values"
   ]
  },
  {
   "cell_type": "markdown",
   "metadata": {},
   "source": [
    "I utilized the following code - *df.isna().sum()* - to understand how many missing values are within each column.  There is a total of 5,552 missing values in the *df['emotion_in_tweet_is_directed_at']* column.\n",
    "\n",
    "There is 1 missing value in the *df['tweet_text']* column.\n",
    "\n",
    "The other column *df['is_there_an_emotion_directed_at_a_brand_or_product']* did not have any missing values."
   ]
  },
  {
   "cell_type": "code",
   "execution_count": 12,
   "metadata": {},
   "outputs": [
    {
     "data": {
      "text/plain": [
       "22"
      ]
     },
     "execution_count": 12,
     "metadata": {},
     "output_type": "execute_result"
    }
   ],
   "source": [
    "# Checking for duplicates\n",
    "\n",
    "df.duplicated().sum()"
   ]
  },
  {
   "cell_type": "code",
   "execution_count": 13,
   "metadata": {},
   "outputs": [],
   "source": [
    "# Creating a dataframe for the duplicates\n",
    "\n",
    "duplicates_all = df[df.duplicated(keep=False)]"
   ]
  },
  {
   "cell_type": "code",
   "execution_count": 14,
   "metadata": {},
   "outputs": [
    {
     "data": {
      "text/html": [
       "<div>\n",
       "<style scoped>\n",
       "    .dataframe tbody tr th:only-of-type {\n",
       "        vertical-align: middle;\n",
       "    }\n",
       "\n",
       "    .dataframe tbody tr th {\n",
       "        vertical-align: top;\n",
       "    }\n",
       "\n",
       "    .dataframe thead th {\n",
       "        text-align: right;\n",
       "    }\n",
       "</style>\n",
       "<table border=\"1\" class=\"dataframe\">\n",
       "  <thead>\n",
       "    <tr style=\"text-align: right;\">\n",
       "      <th></th>\n",
       "      <th>tweet_text</th>\n",
       "      <th>emotion_in_tweet_is_directed_at</th>\n",
       "      <th>is_there_an_emotion_directed_at_a_brand_or_product</th>\n",
       "    </tr>\n",
       "  </thead>\n",
       "  <tbody>\n",
       "    <tr>\n",
       "      <th>7</th>\n",
       "      <td>#SXSW is just starting, #CTIA is around the co...</td>\n",
       "      <td>Android</td>\n",
       "      <td>Positive emotion</td>\n",
       "    </tr>\n",
       "    <tr>\n",
       "      <th>9</th>\n",
       "      <td>Counting down the days to #sxsw plus strong Ca...</td>\n",
       "      <td>Apple</td>\n",
       "      <td>Positive emotion</td>\n",
       "    </tr>\n",
       "    <tr>\n",
       "      <th>17</th>\n",
       "      <td>I just noticed DST is coming this weekend. How...</td>\n",
       "      <td>iPhone</td>\n",
       "      <td>Negative emotion</td>\n",
       "    </tr>\n",
       "    <tr>\n",
       "      <th>20</th>\n",
       "      <td>Need to buy an iPad2 while I'm in Austin at #s...</td>\n",
       "      <td>iPad</td>\n",
       "      <td>Positive emotion</td>\n",
       "    </tr>\n",
       "    <tr>\n",
       "      <th>21</th>\n",
       "      <td>Oh. My. God. The #SXSW app for iPad is pure, u...</td>\n",
       "      <td>iPad or iPhone App</td>\n",
       "      <td>Positive emotion</td>\n",
       "    </tr>\n",
       "    <tr>\n",
       "      <th>24</th>\n",
       "      <td>Really enjoying the changes in Gowalla 3.0 for...</td>\n",
       "      <td>Android App</td>\n",
       "      <td>Positive emotion</td>\n",
       "    </tr>\n",
       "    <tr>\n",
       "      <th>455</th>\n",
       "      <td>Before It Even Begins, Apple Wins #SXSW {link}</td>\n",
       "      <td>Apple</td>\n",
       "      <td>Positive emotion</td>\n",
       "    </tr>\n",
       "    <tr>\n",
       "      <th>457</th>\n",
       "      <td>Before It Even Begins, Apple Wins #SXSW {link}</td>\n",
       "      <td>Apple</td>\n",
       "      <td>Positive emotion</td>\n",
       "    </tr>\n",
       "    <tr>\n",
       "      <th>750</th>\n",
       "      <td>Google to Launch Major New Social Network Call...</td>\n",
       "      <td>NaN</td>\n",
       "      <td>No emotion toward brand or product</td>\n",
       "    </tr>\n",
       "    <tr>\n",
       "      <th>752</th>\n",
       "      <td>Google to Launch Major New Social Network Call...</td>\n",
       "      <td>NaN</td>\n",
       "      <td>No emotion toward brand or product</td>\n",
       "    </tr>\n",
       "    <tr>\n",
       "      <th>2136</th>\n",
       "      <td>Marissa Mayer: Google Will Connect the Digital...</td>\n",
       "      <td>NaN</td>\n",
       "      <td>No emotion toward brand or product</td>\n",
       "    </tr>\n",
       "    <tr>\n",
       "      <th>2138</th>\n",
       "      <td>Marissa Mayer: Google Will Connect the Digital...</td>\n",
       "      <td>NaN</td>\n",
       "      <td>No emotion toward brand or product</td>\n",
       "    </tr>\n",
       "    <tr>\n",
       "      <th>2437</th>\n",
       "      <td>Counting down the days to #sxsw plus strong Ca...</td>\n",
       "      <td>Apple</td>\n",
       "      <td>Positive emotion</td>\n",
       "    </tr>\n",
       "    <tr>\n",
       "      <th>3759</th>\n",
       "      <td>Really enjoying the changes in Gowalla 3.0 for...</td>\n",
       "      <td>Android App</td>\n",
       "      <td>Positive emotion</td>\n",
       "    </tr>\n",
       "    <tr>\n",
       "      <th>3771</th>\n",
       "      <td>#SXSW is just starting, #CTIA is around the co...</td>\n",
       "      <td>Android</td>\n",
       "      <td>Positive emotion</td>\n",
       "    </tr>\n",
       "    <tr>\n",
       "      <th>4669</th>\n",
       "      <td>Oh. My. God. The #SXSW app for iPad is pure, u...</td>\n",
       "      <td>iPad or iPhone App</td>\n",
       "      <td>Positive emotion</td>\n",
       "    </tr>\n",
       "    <tr>\n",
       "      <th>5105</th>\n",
       "      <td>RT @mention ��� GO BEYOND BORDERS! ��_ {link} ...</td>\n",
       "      <td>NaN</td>\n",
       "      <td>No emotion toward brand or product</td>\n",
       "    </tr>\n",
       "    <tr>\n",
       "      <th>5107</th>\n",
       "      <td>RT @mention ��� GO BEYOND BORDERS! ��_ {link} ...</td>\n",
       "      <td>NaN</td>\n",
       "      <td>No emotion toward brand or product</td>\n",
       "    </tr>\n",
       "    <tr>\n",
       "      <th>5108</th>\n",
       "      <td>RT @mention ��� Happy Woman's Day! Make love, ...</td>\n",
       "      <td>NaN</td>\n",
       "      <td>No emotion toward brand or product</td>\n",
       "    </tr>\n",
       "    <tr>\n",
       "      <th>5110</th>\n",
       "      <td>RT @mention ��� Happy Woman's Day! Make love, ...</td>\n",
       "      <td>NaN</td>\n",
       "      <td>No emotion toward brand or product</td>\n",
       "    </tr>\n",
       "    <tr>\n",
       "      <th>5648</th>\n",
       "      <td>RT @mention Google to Launch Major New Social ...</td>\n",
       "      <td>NaN</td>\n",
       "      <td>No emotion toward brand or product</td>\n",
       "    </tr>\n",
       "    <tr>\n",
       "      <th>5649</th>\n",
       "      <td>RT @mention Google to Launch Major New Social ...</td>\n",
       "      <td>NaN</td>\n",
       "      <td>No emotion toward brand or product</td>\n",
       "    </tr>\n",
       "    <tr>\n",
       "      <th>5650</th>\n",
       "      <td>RT @mention Google to Launch Major New Social ...</td>\n",
       "      <td>NaN</td>\n",
       "      <td>No emotion toward brand or product</td>\n",
       "    </tr>\n",
       "    <tr>\n",
       "      <th>5651</th>\n",
       "      <td>RT @mention Google to Launch Major New Social ...</td>\n",
       "      <td>NaN</td>\n",
       "      <td>No emotion toward brand or product</td>\n",
       "    </tr>\n",
       "    <tr>\n",
       "      <th>5652</th>\n",
       "      <td>RT @mention Google to Launch Major New Social ...</td>\n",
       "      <td>NaN</td>\n",
       "      <td>No emotion toward brand or product</td>\n",
       "    </tr>\n",
       "    <tr>\n",
       "      <th>5653</th>\n",
       "      <td>RT @mention Google to Launch Major New Social ...</td>\n",
       "      <td>NaN</td>\n",
       "      <td>No emotion toward brand or product</td>\n",
       "    </tr>\n",
       "    <tr>\n",
       "      <th>5654</th>\n",
       "      <td>RT @mention Google to Launch Major New Social ...</td>\n",
       "      <td>NaN</td>\n",
       "      <td>No emotion toward brand or product</td>\n",
       "    </tr>\n",
       "    <tr>\n",
       "      <th>6061</th>\n",
       "      <td>RT @mention Marissa Mayer: Google Will Connect...</td>\n",
       "      <td>Google</td>\n",
       "      <td>Positive emotion</td>\n",
       "    </tr>\n",
       "    <tr>\n",
       "      <th>6063</th>\n",
       "      <td>RT @mention Marissa Mayer: Google Will Connect...</td>\n",
       "      <td>NaN</td>\n",
       "      <td>No emotion toward brand or product</td>\n",
       "    </tr>\n",
       "    <tr>\n",
       "      <th>6064</th>\n",
       "      <td>RT @mention Marissa Mayer: Google Will Connect...</td>\n",
       "      <td>NaN</td>\n",
       "      <td>No emotion toward brand or product</td>\n",
       "    </tr>\n",
       "    <tr>\n",
       "      <th>6065</th>\n",
       "      <td>RT @mention Marissa Mayer: Google Will Connect...</td>\n",
       "      <td>Google</td>\n",
       "      <td>Positive emotion</td>\n",
       "    </tr>\n",
       "    <tr>\n",
       "      <th>6066</th>\n",
       "      <td>RT @mention Marissa Mayer: Google Will Connect...</td>\n",
       "      <td>NaN</td>\n",
       "      <td>No emotion toward brand or product</td>\n",
       "    </tr>\n",
       "    <tr>\n",
       "      <th>6067</th>\n",
       "      <td>RT @mention Marissa Mayer: Google Will Connect...</td>\n",
       "      <td>Google</td>\n",
       "      <td>Positive emotion</td>\n",
       "    </tr>\n",
       "    <tr>\n",
       "      <th>6068</th>\n",
       "      <td>RT @mention Marissa Mayer: Google Will Connect...</td>\n",
       "      <td>NaN</td>\n",
       "      <td>No emotion toward brand or product</td>\n",
       "    </tr>\n",
       "    <tr>\n",
       "      <th>6069</th>\n",
       "      <td>RT @mention Marissa Mayer: Google Will Connect...</td>\n",
       "      <td>NaN</td>\n",
       "      <td>No emotion toward brand or product</td>\n",
       "    </tr>\n",
       "    <tr>\n",
       "      <th>6313</th>\n",
       "      <td>RT @mention RT @mention Google to Launch Major...</td>\n",
       "      <td>NaN</td>\n",
       "      <td>No emotion toward brand or product</td>\n",
       "    </tr>\n",
       "    <tr>\n",
       "      <th>6315</th>\n",
       "      <td>RT @mention RT @mention Google to Launch Major...</td>\n",
       "      <td>NaN</td>\n",
       "      <td>No emotion toward brand or product</td>\n",
       "    </tr>\n",
       "    <tr>\n",
       "      <th>8146</th>\n",
       "      <td>I just noticed DST is coming this weekend. How...</td>\n",
       "      <td>iPhone</td>\n",
       "      <td>Negative emotion</td>\n",
       "    </tr>\n",
       "    <tr>\n",
       "      <th>8394</th>\n",
       "      <td>Need to buy an iPad2 while I'm in Austin at #s...</td>\n",
       "      <td>iPad</td>\n",
       "      <td>Positive emotion</td>\n",
       "    </tr>\n",
       "  </tbody>\n",
       "</table>\n",
       "</div>"
      ],
      "text/plain": [
       "                                             tweet_text  \\\n",
       "7     #SXSW is just starting, #CTIA is around the co...   \n",
       "9     Counting down the days to #sxsw plus strong Ca...   \n",
       "17    I just noticed DST is coming this weekend. How...   \n",
       "20    Need to buy an iPad2 while I'm in Austin at #s...   \n",
       "21    Oh. My. God. The #SXSW app for iPad is pure, u...   \n",
       "24    Really enjoying the changes in Gowalla 3.0 for...   \n",
       "455      Before It Even Begins, Apple Wins #SXSW {link}   \n",
       "457      Before It Even Begins, Apple Wins #SXSW {link}   \n",
       "750   Google to Launch Major New Social Network Call...   \n",
       "752   Google to Launch Major New Social Network Call...   \n",
       "2136  Marissa Mayer: Google Will Connect the Digital...   \n",
       "2138  Marissa Mayer: Google Will Connect the Digital...   \n",
       "2437  Counting down the days to #sxsw plus strong Ca...   \n",
       "3759  Really enjoying the changes in Gowalla 3.0 for...   \n",
       "3771  #SXSW is just starting, #CTIA is around the co...   \n",
       "4669  Oh. My. God. The #SXSW app for iPad is pure, u...   \n",
       "5105  RT @mention ��� GO BEYOND BORDERS! ��_ {link} ...   \n",
       "5107  RT @mention ��� GO BEYOND BORDERS! ��_ {link} ...   \n",
       "5108  RT @mention ��� Happy Woman's Day! Make love, ...   \n",
       "5110  RT @mention ��� Happy Woman's Day! Make love, ...   \n",
       "5648  RT @mention Google to Launch Major New Social ...   \n",
       "5649  RT @mention Google to Launch Major New Social ...   \n",
       "5650  RT @mention Google to Launch Major New Social ...   \n",
       "5651  RT @mention Google to Launch Major New Social ...   \n",
       "5652  RT @mention Google to Launch Major New Social ...   \n",
       "5653  RT @mention Google to Launch Major New Social ...   \n",
       "5654  RT @mention Google to Launch Major New Social ...   \n",
       "6061  RT @mention Marissa Mayer: Google Will Connect...   \n",
       "6063  RT @mention Marissa Mayer: Google Will Connect...   \n",
       "6064  RT @mention Marissa Mayer: Google Will Connect...   \n",
       "6065  RT @mention Marissa Mayer: Google Will Connect...   \n",
       "6066  RT @mention Marissa Mayer: Google Will Connect...   \n",
       "6067  RT @mention Marissa Mayer: Google Will Connect...   \n",
       "6068  RT @mention Marissa Mayer: Google Will Connect...   \n",
       "6069  RT @mention Marissa Mayer: Google Will Connect...   \n",
       "6313  RT @mention RT @mention Google to Launch Major...   \n",
       "6315  RT @mention RT @mention Google to Launch Major...   \n",
       "8146  I just noticed DST is coming this weekend. How...   \n",
       "8394  Need to buy an iPad2 while I'm in Austin at #s...   \n",
       "\n",
       "     emotion_in_tweet_is_directed_at  \\\n",
       "7                            Android   \n",
       "9                              Apple   \n",
       "17                            iPhone   \n",
       "20                              iPad   \n",
       "21                iPad or iPhone App   \n",
       "24                       Android App   \n",
       "455                            Apple   \n",
       "457                            Apple   \n",
       "750                              NaN   \n",
       "752                              NaN   \n",
       "2136                             NaN   \n",
       "2138                             NaN   \n",
       "2437                           Apple   \n",
       "3759                     Android App   \n",
       "3771                         Android   \n",
       "4669              iPad or iPhone App   \n",
       "5105                             NaN   \n",
       "5107                             NaN   \n",
       "5108                             NaN   \n",
       "5110                             NaN   \n",
       "5648                             NaN   \n",
       "5649                             NaN   \n",
       "5650                             NaN   \n",
       "5651                             NaN   \n",
       "5652                             NaN   \n",
       "5653                             NaN   \n",
       "5654                             NaN   \n",
       "6061                          Google   \n",
       "6063                             NaN   \n",
       "6064                             NaN   \n",
       "6065                          Google   \n",
       "6066                             NaN   \n",
       "6067                          Google   \n",
       "6068                             NaN   \n",
       "6069                             NaN   \n",
       "6313                             NaN   \n",
       "6315                             NaN   \n",
       "8146                          iPhone   \n",
       "8394                            iPad   \n",
       "\n",
       "     is_there_an_emotion_directed_at_a_brand_or_product  \n",
       "7                                      Positive emotion  \n",
       "9                                      Positive emotion  \n",
       "17                                     Negative emotion  \n",
       "20                                     Positive emotion  \n",
       "21                                     Positive emotion  \n",
       "24                                     Positive emotion  \n",
       "455                                    Positive emotion  \n",
       "457                                    Positive emotion  \n",
       "750                  No emotion toward brand or product  \n",
       "752                  No emotion toward brand or product  \n",
       "2136                 No emotion toward brand or product  \n",
       "2138                 No emotion toward brand or product  \n",
       "2437                                   Positive emotion  \n",
       "3759                                   Positive emotion  \n",
       "3771                                   Positive emotion  \n",
       "4669                                   Positive emotion  \n",
       "5105                 No emotion toward brand or product  \n",
       "5107                 No emotion toward brand or product  \n",
       "5108                 No emotion toward brand or product  \n",
       "5110                 No emotion toward brand or product  \n",
       "5648                 No emotion toward brand or product  \n",
       "5649                 No emotion toward brand or product  \n",
       "5650                 No emotion toward brand or product  \n",
       "5651                 No emotion toward brand or product  \n",
       "5652                 No emotion toward brand or product  \n",
       "5653                 No emotion toward brand or product  \n",
       "5654                 No emotion toward brand or product  \n",
       "6061                                   Positive emotion  \n",
       "6063                 No emotion toward brand or product  \n",
       "6064                 No emotion toward brand or product  \n",
       "6065                                   Positive emotion  \n",
       "6066                 No emotion toward brand or product  \n",
       "6067                                   Positive emotion  \n",
       "6068                 No emotion toward brand or product  \n",
       "6069                 No emotion toward brand or product  \n",
       "6313                 No emotion toward brand or product  \n",
       "6315                 No emotion toward brand or product  \n",
       "8146                                   Negative emotion  \n",
       "8394                                   Positive emotion  "
      ]
     },
     "execution_count": 14,
     "metadata": {},
     "output_type": "execute_result"
    }
   ],
   "source": [
    "# Examining the dataframe created for the duplicates\n",
    "\n",
    "duplicates_all"
   ]
  },
  {
   "cell_type": "markdown",
   "metadata": {},
   "source": [
    "## Observations | Duplicate Rows"
   ]
  },
  {
   "cell_type": "markdown",
   "metadata": {},
   "source": [
    "I utilized the following code - *df.duplicated().sum()* - to understand how many duplicates are present in the dataset.  There is a total of 22 duplicate rows."
   ]
  },
  {
   "cell_type": "markdown",
   "metadata": {},
   "source": [
    "# Data Preparation"
   ]
  },
  {
   "cell_type": "markdown",
   "metadata": {},
   "source": [
    "The Data Understanding stage is complete.  Based on the exploratory data analysis, I will perform the following:\n",
    "\n",
    "1. Remove duplicate rows\n",
    "2. Remove observation that has a missing value in the *df['tweet_text']* column\n",
    "3. Drop the column *df['emotion_in_tweet_is_directed_at'] from the Dataframe\n",
    "4. Classify the brand or product sentiment into the two following categories - 1) Not Positive, or 2) Positive - via *df['is_there_an_emotion_directed_at_a_brand_or_product']* column "
   ]
  },
  {
   "cell_type": "markdown",
   "metadata": {},
   "source": [
    "## Remove Duplicate Rows"
   ]
  },
  {
   "cell_type": "code",
   "execution_count": 15,
   "metadata": {},
   "outputs": [
    {
     "data": {
      "text/plain": [
       "22"
      ]
     },
     "execution_count": 15,
     "metadata": {},
     "output_type": "execute_result"
    }
   ],
   "source": [
    "# Checking the number of duplicates\n",
    "\n",
    "df.duplicated().sum()"
   ]
  },
  {
   "cell_type": "code",
   "execution_count": 16,
   "metadata": {},
   "outputs": [],
   "source": [
    "# Removing duplicates\n",
    "\n",
    "df.drop_duplicates(inplace=True)"
   ]
  },
  {
   "cell_type": "code",
   "execution_count": 17,
   "metadata": {},
   "outputs": [
    {
     "data": {
      "text/plain": [
       "0"
      ]
     },
     "execution_count": 17,
     "metadata": {},
     "output_type": "execute_result"
    }
   ],
   "source": [
    "# Checking the number of duplicates again\n",
    "\n",
    "df.duplicated().sum()"
   ]
  },
  {
   "cell_type": "code",
   "execution_count": 18,
   "metadata": {},
   "outputs": [
    {
     "name": "stdout",
     "output_type": "stream",
     "text": [
      "<class 'pandas.core.frame.DataFrame'>\n",
      "Int64Index: 8699 entries, 0 to 8720\n",
      "Data columns (total 3 columns):\n",
      " #   Column                                              Non-Null Count  Dtype \n",
      "---  ------                                              --------------  ----- \n",
      " 0   tweet_text                                          8698 non-null   object\n",
      " 1   emotion_in_tweet_is_directed_at                     3160 non-null   object\n",
      " 2   is_there_an_emotion_directed_at_a_brand_or_product  8699 non-null   object\n",
      "dtypes: object(3)\n",
      "memory usage: 271.8+ KB\n"
     ]
    }
   ],
   "source": [
    "# Checking the number of rows in the DataFrame\n",
    "\n",
    "df.info()"
   ]
  },
  {
   "cell_type": "markdown",
   "metadata": {},
   "source": [
    "I utilied the following code - *df.drop_duplicates(inplace=True)* - to remove the duplicates from the DataFrame.  The number of rows is now 8,699."
   ]
  },
  {
   "cell_type": "markdown",
   "metadata": {},
   "source": [
    "## Remove Observation with Missing Tweet"
   ]
  },
  {
   "cell_type": "code",
   "execution_count": 19,
   "metadata": {},
   "outputs": [
    {
     "data": {
      "text/plain": [
       "tweet_text                                               1\n",
       "emotion_in_tweet_is_directed_at                       5539\n",
       "is_there_an_emotion_directed_at_a_brand_or_product       0\n",
       "dtype: int64"
      ]
     },
     "execution_count": 19,
     "metadata": {},
     "output_type": "execute_result"
    }
   ],
   "source": [
    "# Examining how many Missing Values are in each column\n",
    "\n",
    "df.isna().sum()"
   ]
  },
  {
   "cell_type": "code",
   "execution_count": 20,
   "metadata": {},
   "outputs": [],
   "source": [
    "# Removing row with missing tweet\n",
    "\n",
    "df.dropna(subset=['tweet_text'], axis=0, inplace=True)"
   ]
  },
  {
   "cell_type": "code",
   "execution_count": 21,
   "metadata": {},
   "outputs": [
    {
     "data": {
      "text/plain": [
       "tweet_text                                               0\n",
       "emotion_in_tweet_is_directed_at                       5538\n",
       "is_there_an_emotion_directed_at_a_brand_or_product       0\n",
       "dtype: int64"
      ]
     },
     "execution_count": 21,
     "metadata": {},
     "output_type": "execute_result"
    }
   ],
   "source": [
    "# Checking whether or not the row with the missing tweet has been removed\n",
    "\n",
    "df.isna().sum()"
   ]
  },
  {
   "cell_type": "code",
   "execution_count": 22,
   "metadata": {},
   "outputs": [
    {
     "name": "stdout",
     "output_type": "stream",
     "text": [
      "<class 'pandas.core.frame.DataFrame'>\n",
      "Int64Index: 8698 entries, 0 to 8720\n",
      "Data columns (total 3 columns):\n",
      " #   Column                                              Non-Null Count  Dtype \n",
      "---  ------                                              --------------  ----- \n",
      " 0   tweet_text                                          8698 non-null   object\n",
      " 1   emotion_in_tweet_is_directed_at                     3160 non-null   object\n",
      " 2   is_there_an_emotion_directed_at_a_brand_or_product  8698 non-null   object\n",
      "dtypes: object(3)\n",
      "memory usage: 271.8+ KB\n"
     ]
    }
   ],
   "source": [
    "# Examining the Dataframe\n",
    "\n",
    "df.info()"
   ]
  },
  {
   "cell_type": "markdown",
   "metadata": {},
   "source": [
    "I utilied the following code - *df.dropna(subset=['tweet_text'], axis=0, inplace=True)* - to remove the observation with the missing tweet from the DataFrame.  The aforementioned observation has been removed.  The number of rows is now 8,698."
   ]
  },
  {
   "cell_type": "markdown",
   "metadata": {},
   "source": [
    "## Removing the brand and product column"
   ]
  },
  {
   "cell_type": "code",
   "execution_count": 23,
   "metadata": {},
   "outputs": [
    {
     "name": "stdout",
     "output_type": "stream",
     "text": [
      "<class 'pandas.core.frame.DataFrame'>\n",
      "Int64Index: 8698 entries, 0 to 8720\n",
      "Data columns (total 3 columns):\n",
      " #   Column                                              Non-Null Count  Dtype \n",
      "---  ------                                              --------------  ----- \n",
      " 0   tweet_text                                          8698 non-null   object\n",
      " 1   emotion_in_tweet_is_directed_at                     3160 non-null   object\n",
      " 2   is_there_an_emotion_directed_at_a_brand_or_product  8698 non-null   object\n",
      "dtypes: object(3)\n",
      "memory usage: 271.8+ KB\n"
     ]
    }
   ],
   "source": [
    "# Examining the DataFrame\n",
    "\n",
    "df.info()"
   ]
  },
  {
   "cell_type": "code",
   "execution_count": 24,
   "metadata": {},
   "outputs": [],
   "source": [
    "# Remove the df['emotion_in_tweet_is_directed_at'] column\n",
    "\n",
    "df.drop('emotion_in_tweet_is_directed_at', axis=1, inplace=True)"
   ]
  },
  {
   "cell_type": "code",
   "execution_count": 25,
   "metadata": {},
   "outputs": [
    {
     "name": "stdout",
     "output_type": "stream",
     "text": [
      "<class 'pandas.core.frame.DataFrame'>\n",
      "Int64Index: 8698 entries, 0 to 8720\n",
      "Data columns (total 2 columns):\n",
      " #   Column                                              Non-Null Count  Dtype \n",
      "---  ------                                              --------------  ----- \n",
      " 0   tweet_text                                          8698 non-null   object\n",
      " 1   is_there_an_emotion_directed_at_a_brand_or_product  8698 non-null   object\n",
      "dtypes: object(2)\n",
      "memory usage: 203.9+ KB\n"
     ]
    }
   ],
   "source": [
    "# Checking whether or not the column has been removed\n",
    "\n",
    "df.info()"
   ]
  },
  {
   "cell_type": "markdown",
   "metadata": {},
   "source": [
    "I utilied the following code - *df.drop('emotion_in_tweet_is_directed_at', axis=1, inplace=True)* - to remove the brand and product column.  The aforementioned column has been removed."
   ]
  },
  {
   "cell_type": "markdown",
   "metadata": {},
   "source": [
    "## Classify the brand or product sentiment"
   ]
  },
  {
   "cell_type": "code",
   "execution_count": 26,
   "metadata": {},
   "outputs": [
    {
     "data": {
      "text/plain": [
       "No emotion toward brand or product    5142\n",
       "Positive emotion                      2861\n",
       "Negative emotion                       544\n",
       "I can't tell                           151\n",
       "Name: is_there_an_emotion_directed_at_a_brand_or_product, dtype: int64"
      ]
     },
     "execution_count": 26,
     "metadata": {},
     "output_type": "execute_result"
    }
   ],
   "source": [
    "df['is_there_an_emotion_directed_at_a_brand_or_product'].value_counts()"
   ]
  },
  {
   "cell_type": "code",
   "execution_count": 27,
   "metadata": {},
   "outputs": [],
   "source": [
    "# Creating a DataFrame that captures the \"I can't tell\" sentiment\n",
    "\n",
    "I_cannot_tell = df[(df['is_there_an_emotion_directed_at_a_brand_or_product'] == \"I can't tell\")].index"
   ]
  },
  {
   "cell_type": "code",
   "execution_count": 28,
   "metadata": {},
   "outputs": [],
   "source": [
    "# Removing rows with a brand / product sentiment that is \"I can't tell\"\n",
    "\n",
    "df.drop(I_cannot_tell, inplace=True)"
   ]
  },
  {
   "cell_type": "code",
   "execution_count": 29,
   "metadata": {},
   "outputs": [
    {
     "data": {
      "text/plain": [
       "No emotion toward brand or product    5142\n",
       "Positive emotion                      2861\n",
       "Negative emotion                       544\n",
       "Name: is_there_an_emotion_directed_at_a_brand_or_product, dtype: int64"
      ]
     },
     "execution_count": 29,
     "metadata": {},
     "output_type": "execute_result"
    }
   ],
   "source": [
    "# Checking whether or not the DataFrame no longer captures the \"I can't tell\" sentiment\n",
    "\n",
    "df['is_there_an_emotion_directed_at_a_brand_or_product'].value_counts()"
   ]
  },
  {
   "cell_type": "code",
   "execution_count": 30,
   "metadata": {},
   "outputs": [],
   "source": [
    "# Replacing 'Positive emotion' with 'Positive'\n",
    "\n",
    "df['is_there_an_emotion_directed_at_a_brand_or_product'] = df['is_there_an_emotion_directed_at_a_brand_or_product'].str.replace(\"Positive emotion\", \"Positive\")"
   ]
  },
  {
   "cell_type": "code",
   "execution_count": 31,
   "metadata": {},
   "outputs": [
    {
     "data": {
      "text/plain": [
       "No emotion toward brand or product    5142\n",
       "Positive                              2861\n",
       "Negative emotion                       544\n",
       "Name: is_there_an_emotion_directed_at_a_brand_or_product, dtype: int64"
      ]
     },
     "execution_count": 31,
     "metadata": {},
     "output_type": "execute_result"
    }
   ],
   "source": [
    "# Checking whether or not 'Positive emotion' is replaced with 'Positive'\n",
    "\n",
    "df['is_there_an_emotion_directed_at_a_brand_or_product'].value_counts()"
   ]
  },
  {
   "cell_type": "code",
   "execution_count": 32,
   "metadata": {},
   "outputs": [],
   "source": [
    "# Replacing 'No emotion toward brand or product' with 'Not Positive'\n",
    "\n",
    "df['is_there_an_emotion_directed_at_a_brand_or_product'] = df['is_there_an_emotion_directed_at_a_brand_or_product'].str.replace(\"No emotion toward brand or product\", \"Not Positive\")"
   ]
  },
  {
   "cell_type": "code",
   "execution_count": 33,
   "metadata": {},
   "outputs": [
    {
     "data": {
      "text/plain": [
       "Not Positive        5142\n",
       "Positive            2861\n",
       "Negative emotion     544\n",
       "Name: is_there_an_emotion_directed_at_a_brand_or_product, dtype: int64"
      ]
     },
     "execution_count": 33,
     "metadata": {},
     "output_type": "execute_result"
    }
   ],
   "source": [
    "# Checking whether or not 'No emotion toward brand or product' is replaced with 'Not Positive'\n",
    "\n",
    "df['is_there_an_emotion_directed_at_a_brand_or_product'].value_counts()"
   ]
  },
  {
   "cell_type": "code",
   "execution_count": 34,
   "metadata": {},
   "outputs": [],
   "source": [
    "# Replacing 'Negative emotion' with 'Not Positive'\n",
    "\n",
    "df['is_there_an_emotion_directed_at_a_brand_or_product'] = df['is_there_an_emotion_directed_at_a_brand_or_product'].str.replace(\"Negative emotion\", \"Not Positive\")"
   ]
  },
  {
   "cell_type": "code",
   "execution_count": 35,
   "metadata": {},
   "outputs": [
    {
     "data": {
      "text/plain": [
       "Not Positive    5686\n",
       "Positive        2861\n",
       "Name: is_there_an_emotion_directed_at_a_brand_or_product, dtype: int64"
      ]
     },
     "execution_count": 35,
     "metadata": {},
     "output_type": "execute_result"
    }
   ],
   "source": [
    "# Checking whether or not 'Negative emotion' is replaced with 'Not Positive'\n",
    "\n",
    "df['is_there_an_emotion_directed_at_a_brand_or_product'].value_counts()"
   ]
  },
  {
   "cell_type": "markdown",
   "metadata": {},
   "source": [
    "I have reclassified all of the brand and product sentiment into the two following categories - 1) Not Positive, or 2) Positive by performing the following:\n",
    "\n",
    "- Removed the brand and product sentiment observations that was listed as \"I can't tell\" (this was 151 rows)\n",
    "- Reclassified the brand and product sentiment observations from \"Positive emotion\" into \"Positive\" (this was 2,861 rows)\n",
    "- Reclassified the brand and product sentiment observations from \"No emotion toward brand or product\" into \"Not Positive\" (this was 5,142 rows)\n",
    "- Reclassified the brand product sentiment observations from \"Negative emotion\" into \"Not Positive\" (this was 544 rows)\n",
    "\n",
    "A bar chart that provides a breakdown of the new brand and product sentiment is listed below."
   ]
  },
  {
   "cell_type": "code",
   "execution_count": 36,
   "metadata": {},
   "outputs": [
    {
     "data": {
      "text/plain": [
       "Text(0.5, 1.0, 'Breakdown of Brand and Product Sentiment')"
      ]
     },
     "execution_count": 36,
     "metadata": {},
     "output_type": "execute_result"
    },
    {
     "data": {
      "image/png": "[encoded data removed]",
      "text/plain": [
       "<Figure size 432x288 with 1 Axes>"
      ]
     },
     "metadata": {
      "needs_background": "light"
     },
     "output_type": "display_data"
    }
   ],
   "source": [
    "# Create a bar chart for Value Counts of 'Positive' and 'Not Positive'\n",
    "\n",
    "sns.countplot(x='is_there_an_emotion_directed_at_a_brand_or_product', data=df)\n",
    "\n",
    "plt.title(\"Breakdown of Brand and Product Sentiment\")"
   ]
  },
  {
   "cell_type": "markdown",
   "metadata": {},
   "source": [
    "# Modeling"
   ]
  },
  {
   "cell_type": "markdown",
   "metadata": {},
   "source": [
    "The Data Understanding phase is complete.  I will transition to creating two types of sentiment analysis models - Naive Bayes and Decision Tree."
   ]
  },
  {
   "cell_type": "markdown",
   "metadata": {},
   "source": [
    "## Pre-Processing"
   ]
  },
  {
   "cell_type": "markdown",
   "metadata": {},
   "source": [
    "Before I create any type of sentiment analysis model, I will need to perform natural language pre-processing.  Natural language pre-processing entails the following:\n",
    "\n",
    "- Tokenization\n",
    "- Removing capitlization\n",
    "- Removing punctuation\n",
    "- Removing stopwords\n",
    "- Stemming"
   ]
  },
  {
   "cell_type": "code",
   "execution_count": 37,
   "metadata": {},
   "outputs": [],
   "source": [
    "# Enhancing Stopwords\n",
    "\n",
    "\n",
    "# Calling English stopwords\n",
    "\n",
    "stopwords_list = stopwords.words('english')\n",
    "\n",
    "\n",
    "# Adding punctuation to the stopwords list\n",
    "\n",
    "stopwords_list += list(string.punctuation)\n",
    "\n",
    "\n",
    "# Adding numbers '0-9' as strings to the stopwords list\n",
    "\n",
    "stopwords_list += ['0', '1', '2', '3', '4', '5', '6', '7', '8', '9']\n",
    "\n",
    "\n",
    "# Adding the following words - sxsw, mention, rt, austin, quot, amp, link - to the stopwords list\n",
    "\n",
    "stopwords_list += ['sxsw', 'mention', 'rt', 'austin', 'quot', 'amp', 'link']\n"
   ]
  },
  {
   "cell_type": "code",
   "execution_count": 38,
   "metadata": {},
   "outputs": [],
   "source": [
    "# Create tokenizer \n",
    "\n",
    "# Creating Pattern\n",
    "\n",
    "pattern = r\"([a-zA-Z]+(?:’[a-z]+)?)\"\n",
    "\n",
    "# Creating tokenizer\n",
    "\n",
    "tokenizer = RegexpTokenizer(pattern)"
   ]
  },
  {
   "cell_type": "code",
   "execution_count": 39,
   "metadata": {},
   "outputs": [],
   "source": [
    "# Initializing PorterStemmer\n",
    "\n",
    "stemmer = PorterStemmer()"
   ]
  },
  {
   "cell_type": "code",
   "execution_count": 40,
   "metadata": {},
   "outputs": [],
   "source": [
    "# Creating a Natural Language Pre-Processing Function\n",
    "\n",
    "def preprocess_text(text, tokenizer, stopwords_list, stemmer):\n",
    "    \n",
    "    # Standardize case (lowercase the text)\n",
    "    \n",
    "    text = text.lower()\n",
    "    \n",
    "    # Tokenize text using `tokenizer`\n",
    "    \n",
    "    tokens = tokenizer.tokenize(text)\n",
    "    \n",
    "    # Remove stopwords using `stopwords_list`\n",
    "    \n",
    "    tokens = [word for word in tokens if word not in stopwords_list]\n",
    "    \n",
    "    # Stem the tokenized text using `stemmer`\n",
    "    \n",
    "    stemmed_tokens = [stemmer.stem(word) for word in tokens]\n",
    "    \n",
    "    # Return the preprocessed text\n",
    "    \n",
    "    return stemmed_tokens"
   ]
  },
  {
   "cell_type": "code",
   "execution_count": 41,
   "metadata": {},
   "outputs": [
    {
     "data": {
      "text/plain": [
       "['studi', 'flatiron', 'school', 'concentr', 'data', 'scienc', 'start']"
      ]
     },
     "execution_count": 41,
     "metadata": {},
     "output_type": "execute_result"
    }
   ],
   "source": [
    "# Test Run of the Natural Language Pre-Processing Function\n",
    "\n",
    "text = 'I study at the Flatiron School; I am concentrating in Data Science.  I started in 2024.'\n",
    "\n",
    "preprocess_text(text, tokenizer, stopwords_list, stemmer)\n"
   ]
  },
  {
   "cell_type": "markdown",
   "metadata": {},
   "source": [
    "I created a function for performing the natural language pre-processing.  I performed a test run of the aforementioned function on the following text, *I study at the Flatiron School; I am concentrating in Data Science.  I started in 2024.*.  The output of the natural language pre-processing functions are the following stemmed tokens:\n",
    "\n",
    "- *studi*\n",
    "- *flatiron*\n",
    "- *school*\n",
    "- *concentr*\n",
    "- *data*\n",
    "- *scienc*\n",
    "- *start*\n",
    "\n",
    "The stemmed tokens are the expected output.  I will proceed with performing a train-test split, and applying the natural language pre-processing function to the X-train and X-test."
   ]
  },
  {
   "cell_type": "code",
   "execution_count": 42,
   "metadata": {},
   "outputs": [],
   "source": [
    "# Identifying target variable\n",
    "\n",
    "X = df['tweet_text']\n",
    "y = df['is_there_an_emotion_directed_at_a_brand_or_product']\n"
   ]
  },
  {
   "cell_type": "code",
   "execution_count": 43,
   "metadata": {},
   "outputs": [],
   "source": [
    "# Performing train-test split\n",
    "\n",
    "X_train, X_test, y_train, y_test = train_test_split(X, y, random_state=42, test_size=0.3)\n"
   ]
  },
  {
   "cell_type": "code",
   "execution_count": 44,
   "metadata": {},
   "outputs": [
    {
     "name": "stdout",
     "output_type": "stream",
     "text": [
      "1790    Keeping tabs on #sxsw via  @mention Awesome iP...\n",
      "8031    Not to hate on the iPad, but fleets of nerds a...\n",
      "301     Those who are tweeting that Google is coming o...\n",
      "451     Before It Even Begins, #Apple Wins #SXSW {link...\n",
      "792     Google to launch new social network at SXSW? -...\n",
      "1138    .@mention There's an expectation of engagement...\n",
      "6005    RT @mention Last day to get the #LP Austin iPh...\n",
      "4469    Like a venn diagram ? &quot;@mention Google to...\n",
      "1955    @mention Apple pop-up store at #sxsw was 5 blo...\n",
      "666     I won the iPad accessories bag! Thanks @mentio...\n",
      "Name: tweet_text, dtype: object\n"
     ]
    }
   ],
   "source": [
    "# Examining X-train\n",
    "\n",
    "print(X_train[:10])\n"
   ]
  },
  {
   "cell_type": "code",
   "execution_count": 45,
   "metadata": {},
   "outputs": [],
   "source": [
    "# Apply Natural Langauge pre-processing function to X-train and X-test\n",
    "\n",
    "X_train_preprocessed = X_train.apply(lambda x: preprocess_text(x, tokenizer, stopwords_list, stemmer))\n",
    "\n",
    "X_test_preprocessed = X_test.apply(lambda x: preprocess_text(x, tokenizer, stopwords_list, stemmer))\n"
   ]
  },
  {
   "cell_type": "code",
   "execution_count": 46,
   "metadata": {},
   "outputs": [
    {
     "data": {
      "text/plain": [
       "1790                  [keep, tab, via, awesom, ipad, app]\n",
       "8031    [hate, ipad, fleet, nerd, arm, ipad, navig, cr...\n",
       "301     [tweet, googl, come, circl, platform, today, o...\n",
       "451                              [even, begin, appl, win]\n",
       "792     [googl, launch, new, social, network, cnet, news]\n",
       "Name: tweet_text, dtype: object"
      ]
     },
     "execution_count": 46,
     "metadata": {},
     "output_type": "execute_result"
    }
   ],
   "source": [
    "# Examining X-train after Natural Langauge pre-processing function is applied\n",
    "\n",
    "X_train_preprocessed.head()\n"
   ]
  },
  {
   "cell_type": "code",
   "execution_count": 47,
   "metadata": {},
   "outputs": [
    {
     "data": {
      "text/plain": [
       "4129    [join, soon, pm, hilton, ab, go, android, deve...\n",
       "1904              [say, hi, new, iphon, case, zazzlesxsw]\n",
       "2067    [wonder, sleev, googl, launch, new, social, ne...\n",
       "462     [even, begin, appl, win, gt, gonna, get, sum, ...\n",
       "763     [googl, launch, major, new, social, network, c...\n",
       "Name: tweet_text, dtype: object"
      ]
     },
     "execution_count": 47,
     "metadata": {},
     "output_type": "execute_result"
    }
   ],
   "source": [
    "# Examining X-test after Natural Langauge pre-processing function is applied\n",
    "\n",
    "X_test_preprocessed.head()\n"
   ]
  },
  {
   "cell_type": "code",
   "execution_count": 48,
   "metadata": {},
   "outputs": [
    {
     "data": {
      "image/png": "[encoded data removed]",
      "text/plain": [
       "<Figure size 432x288 with 1 Axes>"
      ]
     },
     "metadata": {
      "needs_background": "light"
     },
     "output_type": "display_data"
    }
   ],
   "source": [
    "# Creating a plot of the most frequent 20 tokens in the X-train\n",
    "\n",
    "# Flatten the list of lists into a single list of tokens\n",
    "all_tokens = [token for sublist in X_train_preprocessed for token in sublist]\n",
    "\n",
    "# Creating frequency distribution\n",
    "\n",
    "fdist = FreqDist(all_tokens)\n",
    "top_20 = list(zip(*fdist.most_common(20)))\n",
    "tokens = top_20[0]\n",
    "counts = top_20[1]\n",
    "\n",
    "# Set up plot and plot data\n",
    "fig, ax = plt.subplots()\n",
    "ax.bar(tokens, counts)\n",
    "\n",
    "# Customize plot appearance\n",
    "ax.set_title(\"Top 20 Most Frequent Words\")\n",
    "ax.set_ylabel(\"Count\")\n",
    "ax.yaxis.set_major_locator(MaxNLocator(integer=True))\n",
    "ax.tick_params(axis=\"x\", rotation=90)\n",
    "\n",
    "# Show plot\n",
    "plt.show()"
   ]
  },
  {
   "cell_type": "code",
   "execution_count": 49,
   "metadata": {},
   "outputs": [],
   "source": [
    "# Joining the tokens back into strings for each document\n",
    "\n",
    "# Joining the tokens back into strings for X_train_preprocessed\n",
    "\n",
    "X_train_preprocessed_joined = [' '.join(doc) for doc in X_train_preprocessed]\n",
    "\n",
    "\n",
    "# Joining the tokens back into strings for X_test_preprocessed\n",
    "\n",
    "X_test_preprocessed_joined = [' '.join(doc) for doc in X_test_preprocessed]"
   ]
  },
  {
   "cell_type": "markdown",
   "metadata": {},
   "source": [
    "## Naive Bayes"
   ]
  },
  {
   "cell_type": "markdown",
   "metadata": {},
   "source": [
    "Natural language pre-processing of the tweets is complete.  I will transition towards performing the following:\n",
    "\n",
    "- Vectorizing the data via Term Frequency-Inverse Document Frequency, or TF-IDF\n",
    "- Creaing a Baseline Naive Bayes model\n",
    "\n",
    "Before performing the vectorization, I will need to join all of the tokens back into strings for the X-train and X-test."
   ]
  },
  {
   "cell_type": "markdown",
   "metadata": {},
   "source": [
    "### Baseline Naive Bayes Model"
   ]
  },
  {
   "cell_type": "code",
   "execution_count": 50,
   "metadata": {},
   "outputs": [],
   "source": [
    "# Applying vectorization\n",
    "\n",
    "# Instantiating TF-IDF vectorizer\n",
    "\n",
    "tfidf = TfidfVectorizer()\n",
    "\n",
    "# Vectorizing X-train that has undergone Natural Langauge pre-processing\n",
    "\n",
    "X_train_vectorized = tfidf.fit_transform(X_train_preprocessed_joined)\n"
   ]
  },
  {
   "cell_type": "code",
   "execution_count": 51,
   "metadata": {},
   "outputs": [
    {
     "data": {
      "text/html": [
       "<style>#sk-container-id-1 {color: black;background-color: white;}#sk-container-id-1 pre{padding: 0;}#sk-container-id-1 div.sk-toggleable {background-color: white;}#sk-container-id-1 label.sk-toggleable__label {cursor: pointer;display: block;width: 100%;margin-bottom: 0;padding: 0.3em;box-sizing: border-box;text-align: center;}#sk-container-id-1 label.sk-toggleable__label-arrow:before {content: \"▸\";float: left;margin-right: 0.25em;color: #696969;}#sk-container-id-1 label.sk-toggleable__label-arrow:hover:before {color: black;}#sk-container-id-1 div.sk-estimator:hover label.sk-toggleable__label-arrow:before {color: black;}#sk-container-id-1 div.sk-toggleable__content {max-height: 0;max-width: 0;overflow: hidden;text-align: left;background-color: #f0f8ff;}#sk-container-id-1 div.sk-toggleable__content pre {margin: 0.2em;color: black;border-radius: 0.25em;background-color: #f0f8ff;}#sk-container-id-1 input.sk-toggleable__control:checked~div.sk-toggleable__content {max-height: 200px;max-width: 100%;overflow: auto;}#sk-container-id-1 input.sk-toggleable__control:checked~label.sk-toggleable__label-arrow:before {content: \"▾\";}#sk-container-id-1 div.sk-estimator input.sk-toggleable__control:checked~label.sk-toggleable__label {background-color: #d4ebff;}#sk-container-id-1 div.sk-label input.sk-toggleable__control:checked~label.sk-toggleable__label {background-color: #d4ebff;}#sk-container-id-1 input.sk-hidden--visually {border: 0;clip: rect(1px 1px 1px 1px);clip: rect(1px, 1px, 1px, 1px);height: 1px;margin: -1px;overflow: hidden;padding: 0;position: absolute;width: 1px;}#sk-container-id-1 div.sk-estimator {font-family: monospace;background-color: #f0f8ff;border: 1px dotted black;border-radius: 0.25em;box-sizing: border-box;margin-bottom: 0.5em;}#sk-container-id-1 div.sk-estimator:hover {background-color: #d4ebff;}#sk-container-id-1 div.sk-parallel-item::after {content: \"\";width: 100%;border-bottom: 1px solid gray;flex-grow: 1;}#sk-container-id-1 div.sk-label:hover label.sk-toggleable__label {background-color: #d4ebff;}#sk-container-id-1 div.sk-serial::before {content: \"\";position: absolute;border-left: 1px solid gray;box-sizing: border-box;top: 0;bottom: 0;left: 50%;z-index: 0;}#sk-container-id-1 div.sk-serial {display: flex;flex-direction: column;align-items: center;background-color: white;padding-right: 0.2em;padding-left: 0.2em;position: relative;}#sk-container-id-1 div.sk-item {position: relative;z-index: 1;}#sk-container-id-1 div.sk-parallel {display: flex;align-items: stretch;justify-content: center;background-color: white;position: relative;}#sk-container-id-1 div.sk-item::before, #sk-container-id-1 div.sk-parallel-item::before {content: \"\";position: absolute;border-left: 1px solid gray;box-sizing: border-box;top: 0;bottom: 0;left: 50%;z-index: -1;}#sk-container-id-1 div.sk-parallel-item {display: flex;flex-direction: column;z-index: 1;position: relative;background-color: white;}#sk-container-id-1 div.sk-parallel-item:first-child::after {align-self: flex-end;width: 50%;}#sk-container-id-1 div.sk-parallel-item:last-child::after {align-self: flex-start;width: 50%;}#sk-container-id-1 div.sk-parallel-item:only-child::after {width: 0;}#sk-container-id-1 div.sk-dashed-wrapped {border: 1px dashed gray;margin: 0 0.4em 0.5em 0.4em;box-sizing: border-box;padding-bottom: 0.4em;background-color: white;}#sk-container-id-1 div.sk-label label {font-family: monospace;font-weight: bold;display: inline-block;line-height: 1.2em;}#sk-container-id-1 div.sk-label-container {text-align: center;}#sk-container-id-1 div.sk-container {/* jupyter's `normalize.less` sets `[hidden] { display: none; }` but bootstrap.min.css set `[hidden] { display: none !important; }` so we also need the `!important` here to be able to override the default hidden behavior on the sphinx rendered scikit-learn.org. See: https://github.com/scikit-learn/scikit-learn/issues/21755 */display: inline-block !important;position: relative;}#sk-container-id-1 div.sk-text-repr-fallback {display: none;}</style><div id=\"sk-container-id-1\" class=\"sk-top-container\"><div class=\"sk-text-repr-fallback\"><pre>MultinomialNB()</pre><b>In a Jupyter environment, please rerun this cell to show the HTML representation or trust the notebook. <br />On GitHub, the HTML representation is unable to render, please try loading this page with nbviewer.org.</b></div><div class=\"sk-container\" hidden><div class=\"sk-item\"><div class=\"sk-estimator sk-toggleable\"><input class=\"sk-toggleable__control sk-hidden--visually\" id=\"sk-estimator-id-1\" type=\"checkbox\" checked><label for=\"sk-estimator-id-1\" class=\"sk-toggleable__label sk-toggleable__label-arrow\">MultinomialNB</label><div class=\"sk-toggleable__content\"><pre>MultinomialNB()</pre></div></div></div></div></div>"
      ],
      "text/plain": [
       "MultinomialNB()"
      ]
     },
     "execution_count": 51,
     "metadata": {},
     "output_type": "execute_result"
    }
   ],
   "source": [
    "# Creating Baseline Model via Naive Bayes\n",
    "\n",
    "# Instantiating Naive Bayes\n",
    "\n",
    "mnb = MultinomialNB()\n",
    "\n",
    "# Fitting model to Naive Bayes\n",
    "\n",
    "mnb.fit(X_train_vectorized, y_train)"
   ]
  },
  {
   "cell_type": "code",
   "execution_count": 52,
   "metadata": {},
   "outputs": [],
   "source": [
    "# Generating predictions utilizing X-train\n",
    "\n",
    "y_hat_train_mnb_base = mnb.predict(X_train_vectorized)"
   ]
  },
  {
   "cell_type": "code",
   "execution_count": 53,
   "metadata": {},
   "outputs": [],
   "source": [
    "# Vectorizing X-test that has undergone Natural Language pre-processing\n",
    "\n",
    "X_test_vectorized = tfidf.transform(X_test_preprocessed_joined)"
   ]
  },
  {
   "cell_type": "code",
   "execution_count": 54,
   "metadata": {},
   "outputs": [],
   "source": [
    "# Generating predictions utilizing X-test\n",
    "\n",
    "y_hat_test_mnb_base = mnb.predict(X_test_vectorized)"
   ]
  },
  {
   "cell_type": "code",
   "execution_count": 63,
   "metadata": {},
   "outputs": [],
   "source": [
    "# Creating an evaluation metrics function\n",
    "\n",
    "def evaluation_metrics(y_hat_train_baseline, y_train, y_hat_test_baseline, y_test, pos_label='Positive'):\n",
    "    \n",
    "    # Calculate Metrics\n",
    "    \n",
    "    train_precision = precision_score(y_train, y_hat_train_baseline, pos_label=pos_label, average='binary', zero_division=0)\n",
    "    test_precision = precision_score(y_test, y_hat_test_baseline, pos_label=pos_label, average='binary', zero_division=0)\n",
    "\n",
    "    train_recall = recall_score(y_train, y_hat_train_baseline, pos_label=pos_label, average='binary', zero_division=0)\n",
    "    test_recall = recall_score(y_test, y_hat_test_baseline, pos_label=pos_label, average='binary', zero_division=0)\n",
    "\n",
    "    train_accuracy = accuracy_score(y_train, y_hat_train_baseline)\n",
    "    test_accuracy = accuracy_score(y_test, y_hat_test_baseline)\n",
    "\n",
    "    train_f1 = f1_score(y_train, y_hat_train_baseline, pos_label=pos_label, average='binary', zero_division=0)\n",
    "    test_f1 = f1_score(y_test, y_hat_test_baseline, pos_label=pos_label, average='binary', zero_division=0)\n",
    "\n",
    "    # Print metrics\n",
    "    \n",
    "    print('Training Precision:', train_precision)\n",
    "    print('Testing Precision: ', test_precision)\n",
    "    print('\\n\\n')\n",
    "    print('Training Recall: ', train_recall)\n",
    "    print('Testing Recall: ', test_recall)\n",
    "    print('\\n\\n')\n",
    "    print('Training Accuracy: ', train_accuracy)\n",
    "    print('Testing Accuracy: ', test_accuracy)\n",
    "    print('\\n\\n')\n",
    "    print('Training F1-Score: ', train_f1)\n",
    "    print('Testing F1-Score: ', test_f1)"
   ]
  },
  {
   "cell_type": "code",
   "execution_count": 68,
   "metadata": {},
   "outputs": [],
   "source": [
    "# Creating confustion matrix function\n",
    "\n",
    "def cnf_matrix_display(y_test, y_hat_test, title):\n",
    "    \n",
    "    # Defining labels for the confusion matrix\n",
    "    labels = ['Not Positive', 'Positive']\n",
    "\n",
    "    # Creating the confusion matrix\n",
    "    conf_matrix = confusion_matrix(y_test, y_hat_test)\n",
    "\n",
    "    print('Confusion Matrix:\\n', conf_matrix)\n",
    "\n",
    "    plt.figure(figsize=(8, 6))\n",
    "    sns.heatmap(conf_matrix, annot=True, fmt='d', cmap=\"cividis\", xticklabels=labels, yticklabels=labels)\n",
    "    plt.xlabel('Predicted Label')\n",
    "    plt.ylabel('True Label')\n",
    "    plt.title(title)\n",
    "    plt.show()"
   ]
  },
  {
   "cell_type": "code",
   "execution_count": 64,
   "metadata": {},
   "outputs": [
    {
     "name": "stdout",
     "output_type": "stream",
     "text": [
      "Training Precision: 0.9397727272727273\n",
      "Testing Precision:  0.7083333333333334\n",
      "\n",
      "\n",
      "\n",
      "Training Recall:  0.4096087171867261\n",
      "Testing Recall:  0.20190023752969122\n",
      "\n",
      "\n",
      "\n",
      "Training Accuracy:  0.791875626880642\n",
      "Testing Accuracy:  0.7107212475633529\n",
      "\n",
      "\n",
      "\n",
      "Training F1-Score:  0.5705415660572611\n",
      "Testing F1-Score:  0.31423290203327175\n"
     ]
    }
   ],
   "source": [
    "# Evaulation metrics for Baseline Naive Bayes Model\n",
    "\n",
    "evaluation_metrics(y_hat_train_mnb_base, y_train, y_hat_test_mnb_base, y_test, pos_label='Positive')"
   ]
  },
  {
   "cell_type": "code",
   "execution_count": 69,
   "metadata": {},
   "outputs": [
    {
     "name": "stdout",
     "output_type": "stream",
     "text": [
      "Confusion Matrix:\n",
      " [[1653   70]\n",
      " [ 672  170]]\n"
     ]
    },
    {
     "data": {
      "image/png": "[encoded data removed]",
      "text/plain": [
       "<Figure size 576x432 with 2 Axes>"
      ]
     },
     "metadata": {
      "needs_background": "light"
     },
     "output_type": "display_data"
    }
   ],
   "source": [
    "# Creating Confusion Marix for Baseline Naive Bayes Model\n",
    "\n",
    "cnf_matrix_display(y_test, y_hat_test_mnb_base, title='Confusion Matrix for Baseline Naive Bayes Model')"
   ]
  },
  {
   "cell_type": "markdown",
   "metadata": {},
   "source": [
    "### Baseline Naive Bayes Model | Conclusion"
   ]
  },
  {
   "cell_type": "markdown",
   "metadata": {},
   "source": [
    "I have concluded creating a baseline Naive Bayes Model.\n",
    "\n",
    "When the baseline model utilizes the training data, the evaluation metrics are the following:\n",
    "\n",
    "- Precision: 94.0%\n",
    "- Recall: 41.0%\n",
    "- Accuracy: 79.2%\n",
    "- F1 Score: 57.1%\n",
    "\n",
    "When the baseline model utilizes the test data, the evaluation metrics are the following:\n",
    "\n",
    "- Precision: 70.8%\n",
    "- Recall: 20.2%\n",
    "- Accuracy: 71.1%\n",
    "- F1 Score: 31.4%\n",
    "\n",
    "This is the initial model for product sentiment analysis.  There is clearly overfitting since the evaluation metrics for the training data are better than the evaluation metrics for the test data.\n",
    "\n",
    "I also want to point out that precision will be the key evaluation metric.\n",
    "\n",
    "Accuracy is not appropriate since there is a class imbalance in the population.  It is ideal to improve recall.  However, a false negative is not negatively impactful for a company.  In other words, a false negative states the model identified a customer that provided a *Not Positive* brand or product review.  However, in reality, the customer provided a positive review.\n",
    "\n",
    "A false positive is more harmful for the brand or product than a false negative.  A false positive states the model identified a customer that provided a *Positive* review.  However, in reality, the customer provide a *Not Positive* review.  In this case, any company does not have the opportunity to intervene and remediate the issue, or issues, that the client has experienced.\n",
    "\n",
    "As a result, precision is the key evaluation metric."
   ]
  },
  {
   "cell_type": "markdown",
   "metadata": {},
   "source": [
    "### Tuning the Baseline Naive Bayes Model"
   ]
  },
  {
   "cell_type": "markdown",
   "metadata": {},
   "source": [
    "The Baseline Naive Bayes Model has a precision score of approximately 70.8%.  I want to determine whether or not I can tune the model by varying the TF-IDF minimum depth and maximum depth.\n",
    "\n",
    "I will utilize a pipeline and Grid Search CV to tune the Naive Bayes model."
   ]
  },
  {
   "cell_type": "code",
   "execution_count": 77,
   "metadata": {},
   "outputs": [],
   "source": [
    "# Creating a pipeline for tuning the Naive Bayes Model\n",
    "\n",
    "steps_mnb_tune = [('tfidf', TfidfVectorizer()),\n",
    "                    ('mnb', MultinomialNB())]\n",
    "\n",
    "pipe_mnb_tune = Pipeline(steps_mnb_tune) \n"
   ]
  },
  {
   "cell_type": "code",
   "execution_count": 78,
   "metadata": {},
   "outputs": [],
   "source": [
    "# Creating Grid Search for tuning the Naive Bayes Model\n",
    "\n",
    "# Set Grid for Search\n",
    "\n",
    "params_mnb_tune = [{'tfidf__min_df': [0.0, 0.01, 0.05],\n",
    "                     'tfidf__max_df': [1.0, 0.95, 0.9]}]\n"
   ]
  },
  {
   "cell_type": "code",
   "execution_count": 79,
   "metadata": {},
   "outputs": [],
   "source": [
    "# Instanstiate grid search object for tuning the Naive Bayes Model\n",
    "\n",
    "grid_mnb_tune = GridSearchCV(estimator=pipe_mnb_tune, \n",
    "                          param_grid=params_mnb_tune, \n",
    "                          scoring='precision', \n",
    "                          cv=5)\n"
   ]
  },
  {
   "cell_type": "code",
   "execution_count": 80,
   "metadata": {},
   "outputs": [],
   "source": [
    "# Fitting the grid search object to data and finding the best model\n",
    "\n",
    "grid_mnb_tune.fit(X_train_preprocessed_joined, y_train)\n",
    "\n",
    "best_pipe = grid_mnb_tune.best_estimator_"
   ]
  },
  {
   "cell_type": "code",
   "execution_count": 81,
   "metadata": {},
   "outputs": [
    {
     "name": "stdout",
     "output_type": "stream",
     "text": [
      "{'tfidf__max_df': 1.0, 'tfidf__min_df': 0.0}\n"
     ]
    }
   ],
   "source": [
    "# Displaying the best parameters from the grid search object\n",
    "\n",
    "print(grid_mnb_tune.best_params_)"
   ]
  },
  {
   "cell_type": "markdown",
   "metadata": {},
   "source": [
    "I have created the pipeline and grid search object.  When I utilized the following code - *grid_mnb_tune.best_params_* - the optimal values are the following:\n",
    "\n",
    "- max_df: 1.0\n",
    "- min_df: 0.0\n",
    "\n",
    "A maximum df of 1 means that the vectorizer is ignoring terms that appear in more than 100% of documents.  This is already the default setting of the TF-IDF vectorizer.\n",
    "\n",
    "A minimum df of 0.0 means that the vectorizer is not ignoring any terms based on document frequency.\n",
    "\n",
    "The default setting of the TF-IDF vectorizer minimum df is 1.  A minimum df of 1 means that the vectorizer is including all documents that appear in at least one document.\n",
    "\n",
    "As a result, a TF-IDF min_df that is equal to 0.0 is not necessarily the same as a TF-IDF min_df that is equal to 1, or the default setting."
   ]
  },
  {
   "cell_type": "code",
   "execution_count": 89,
   "metadata": {},
   "outputs": [
    {
     "data": {
      "text/html": [
       "<style>#sk-container-id-3 {color: black;background-color: white;}#sk-container-id-3 pre{padding: 0;}#sk-container-id-3 div.sk-toggleable {background-color: white;}#sk-container-id-3 label.sk-toggleable__label {cursor: pointer;display: block;width: 100%;margin-bottom: 0;padding: 0.3em;box-sizing: border-box;text-align: center;}#sk-container-id-3 label.sk-toggleable__label-arrow:before {content: \"▸\";float: left;margin-right: 0.25em;color: #696969;}#sk-container-id-3 label.sk-toggleable__label-arrow:hover:before {color: black;}#sk-container-id-3 div.sk-estimator:hover label.sk-toggleable__label-arrow:before {color: black;}#sk-container-id-3 div.sk-toggleable__content {max-height: 0;max-width: 0;overflow: hidden;text-align: left;background-color: #f0f8ff;}#sk-container-id-3 div.sk-toggleable__content pre {margin: 0.2em;color: black;border-radius: 0.25em;background-color: #f0f8ff;}#sk-container-id-3 input.sk-toggleable__control:checked~div.sk-toggleable__content {max-height: 200px;max-width: 100%;overflow: auto;}#sk-container-id-3 input.sk-toggleable__control:checked~label.sk-toggleable__label-arrow:before {content: \"▾\";}#sk-container-id-3 div.sk-estimator input.sk-toggleable__control:checked~label.sk-toggleable__label {background-color: #d4ebff;}#sk-container-id-3 div.sk-label input.sk-toggleable__control:checked~label.sk-toggleable__label {background-color: #d4ebff;}#sk-container-id-3 input.sk-hidden--visually {border: 0;clip: rect(1px 1px 1px 1px);clip: rect(1px, 1px, 1px, 1px);height: 1px;margin: -1px;overflow: hidden;padding: 0;position: absolute;width: 1px;}#sk-container-id-3 div.sk-estimator {font-family: monospace;background-color: #f0f8ff;border: 1px dotted black;border-radius: 0.25em;box-sizing: border-box;margin-bottom: 0.5em;}#sk-container-id-3 div.sk-estimator:hover {background-color: #d4ebff;}#sk-container-id-3 div.sk-parallel-item::after {content: \"\";width: 100%;border-bottom: 1px solid gray;flex-grow: 1;}#sk-container-id-3 div.sk-label:hover label.sk-toggleable__label {background-color: #d4ebff;}#sk-container-id-3 div.sk-serial::before {content: \"\";position: absolute;border-left: 1px solid gray;box-sizing: border-box;top: 0;bottom: 0;left: 50%;z-index: 0;}#sk-container-id-3 div.sk-serial {display: flex;flex-direction: column;align-items: center;background-color: white;padding-right: 0.2em;padding-left: 0.2em;position: relative;}#sk-container-id-3 div.sk-item {position: relative;z-index: 1;}#sk-container-id-3 div.sk-parallel {display: flex;align-items: stretch;justify-content: center;background-color: white;position: relative;}#sk-container-id-3 div.sk-item::before, #sk-container-id-3 div.sk-parallel-item::before {content: \"\";position: absolute;border-left: 1px solid gray;box-sizing: border-box;top: 0;bottom: 0;left: 50%;z-index: -1;}#sk-container-id-3 div.sk-parallel-item {display: flex;flex-direction: column;z-index: 1;position: relative;background-color: white;}#sk-container-id-3 div.sk-parallel-item:first-child::after {align-self: flex-end;width: 50%;}#sk-container-id-3 div.sk-parallel-item:last-child::after {align-self: flex-start;width: 50%;}#sk-container-id-3 div.sk-parallel-item:only-child::after {width: 0;}#sk-container-id-3 div.sk-dashed-wrapped {border: 1px dashed gray;margin: 0 0.4em 0.5em 0.4em;box-sizing: border-box;padding-bottom: 0.4em;background-color: white;}#sk-container-id-3 div.sk-label label {font-family: monospace;font-weight: bold;display: inline-block;line-height: 1.2em;}#sk-container-id-3 div.sk-label-container {text-align: center;}#sk-container-id-3 div.sk-container {/* jupyter's `normalize.less` sets `[hidden] { display: none; }` but bootstrap.min.css set `[hidden] { display: none !important; }` so we also need the `!important` here to be able to override the default hidden behavior on the sphinx rendered scikit-learn.org. See: https://github.com/scikit-learn/scikit-learn/issues/21755 */display: inline-block !important;position: relative;}#sk-container-id-3 div.sk-text-repr-fallback {display: none;}</style><div id=\"sk-container-id-3\" class=\"sk-top-container\"><div class=\"sk-text-repr-fallback\"><pre>Pipeline(steps=[(&#x27;tfidf&#x27;, TfidfVectorizer(min_df=0.0)),\n",
       "                (&#x27;mnb&#x27;, MultinomialNB())])</pre><b>In a Jupyter environment, please rerun this cell to show the HTML representation or trust the notebook. <br />On GitHub, the HTML representation is unable to render, please try loading this page with nbviewer.org.</b></div><div class=\"sk-container\" hidden><div class=\"sk-item sk-dashed-wrapped\"><div class=\"sk-label-container\"><div class=\"sk-label sk-toggleable\"><input class=\"sk-toggleable__control sk-hidden--visually\" id=\"sk-estimator-id-5\" type=\"checkbox\" ><label for=\"sk-estimator-id-5\" class=\"sk-toggleable__label sk-toggleable__label-arrow\">Pipeline</label><div class=\"sk-toggleable__content\"><pre>Pipeline(steps=[(&#x27;tfidf&#x27;, TfidfVectorizer(min_df=0.0)),\n",
       "                (&#x27;mnb&#x27;, MultinomialNB())])</pre></div></div></div><div class=\"sk-serial\"><div class=\"sk-item\"><div class=\"sk-estimator sk-toggleable\"><input class=\"sk-toggleable__control sk-hidden--visually\" id=\"sk-estimator-id-6\" type=\"checkbox\" ><label for=\"sk-estimator-id-6\" class=\"sk-toggleable__label sk-toggleable__label-arrow\">TfidfVectorizer</label><div class=\"sk-toggleable__content\"><pre>TfidfVectorizer(min_df=0.0)</pre></div></div></div><div class=\"sk-item\"><div class=\"sk-estimator sk-toggleable\"><input class=\"sk-toggleable__control sk-hidden--visually\" id=\"sk-estimator-id-7\" type=\"checkbox\" ><label for=\"sk-estimator-id-7\" class=\"sk-toggleable__label sk-toggleable__label-arrow\">MultinomialNB</label><div class=\"sk-toggleable__content\"><pre>MultinomialNB()</pre></div></div></div></div></div></div></div>"
      ],
      "text/plain": [
       "Pipeline(steps=[('tfidf', TfidfVectorizer(min_df=0.0)),\n",
       "                ('mnb', MultinomialNB())])"
      ]
     },
     "execution_count": 89,
     "metadata": {},
     "output_type": "execute_result"
    }
   ],
   "source": [
    "# Refitting the best pipeline to the training data\n",
    "\n",
    "best_pipe.fit(X_train_preprocessed_joined, y_train)"
   ]
  },
  {
   "cell_type": "code",
   "execution_count": 90,
   "metadata": {},
   "outputs": [],
   "source": [
    "# Predicting y-train with tuned Naive Bayes model\n",
    "\n",
    "y_hat_train_mnb_tune = best_pipe.predict(X_train_preprocessed_joined)"
   ]
  },
  {
   "cell_type": "code",
   "execution_count": 91,
   "metadata": {},
   "outputs": [],
   "source": [
    "# Predicting y-test with tuned Naive Bayes model\n",
    "\n",
    "y_hat_test_mnb_tune = best_pipe.predict(X_test_preprocessed_joined)"
   ]
  },
  {
   "cell_type": "code",
   "execution_count": 92,
   "metadata": {},
   "outputs": [
    {
     "name": "stdout",
     "output_type": "stream",
     "text": [
      "Training Precision: 0.9397727272727273\n",
      "Testing Precision:  0.7083333333333334\n",
      "\n",
      "\n",
      "\n",
      "Training Recall:  0.4096087171867261\n",
      "Testing Recall:  0.20190023752969122\n",
      "\n",
      "\n",
      "\n",
      "Training Accuracy:  0.791875626880642\n",
      "Testing Accuracy:  0.7107212475633529\n",
      "\n",
      "\n",
      "\n",
      "Training F1-Score:  0.5705415660572611\n",
      "Testing F1-Score:  0.31423290203327175\n"
     ]
    }
   ],
   "source": [
    "# Evaulation metrics for Tuned Naive Bayes Model\n",
    "\n",
    "evaluation_metrics(y_hat_train_mnb_tune, y_train, y_hat_test_mnb_tune, y_test, pos_label='Positive')"
   ]
  },
  {
   "cell_type": "code",
   "execution_count": 93,
   "metadata": {},
   "outputs": [
    {
     "name": "stdout",
     "output_type": "stream",
     "text": [
      "Confusion Matrix:\n",
      " [[1653   70]\n",
      " [ 672  170]]\n"
     ]
    },
    {
     "data": {
      "image/png": "[encoded data removed]",
      "text/plain": [
       "<Figure size 576x432 with 2 Axes>"
      ]
     },
     "metadata": {
      "needs_background": "light"
     },
     "output_type": "display_data"
    }
   ],
   "source": [
    "# Creating Confusion Marix for the Tuned Naive Bayes Model\n",
    "\n",
    "cnf_matrix_display(y_test, y_hat_test_mnb_base, title='Confusion Matrix for Tuned Naive Bayes Model')"
   ]
  },
  {
   "cell_type": "markdown",
   "metadata": {},
   "source": [
    "### Tuned Naive Bayes Model | Conclusion"
   ]
  },
  {
   "cell_type": "markdown",
   "metadata": {},
   "source": [
    "## Decision Tree"
   ]
  },
  {
   "cell_type": "markdown",
   "metadata": {},
   "source": [
    "# Overall Conclusions and Recommendations"
   ]
  },
  {
   "cell_type": "code",
   "execution_count": null,
   "metadata": {},
   "outputs": [],
   "source": []
  }
 ],
 "metadata": {
  "kernelspec": {
   "display_name": "Python (learn-env)",
   "language": "python",
   "name": "learn-env"
  },
  "language_info": {
   "codemirror_mode": {
    "name": "ipython",
    "version": 3
   },
   "file_extension": ".py",
   "mimetype": "text/x-python",
   "name": "python",
   "nbconvert_exporter": "python",
   "pygments_lexer": "ipython3",
   "version": "3.8.5"
  }
 },
 "nbformat": 4,
 "nbformat_minor": 4
}
